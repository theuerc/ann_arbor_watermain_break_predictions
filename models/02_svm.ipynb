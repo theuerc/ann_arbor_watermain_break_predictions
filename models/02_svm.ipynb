{
 "cells": [
  {
   "cell_type": "markdown",
   "id": "76aa341c-cfed-48f4-8102-07aeda6d5a76",
   "metadata": {},
   "source": [
    "<h1>Recreating Results of Syracuse Paper</h1>"
   ]
  },
  {
   "cell_type": "code",
   "execution_count": 9,
   "id": "e5436c83-e7f7-45c0-ae54-bdae6c127bac",
   "metadata": {},
   "outputs": [],
   "source": [
    "import os\n",
    "import pandas as pd"
   ]
  },
  {
   "cell_type": "code",
   "execution_count": 10,
   "id": "945537bf-7057-4ac2-a48a-e31e08427385",
   "metadata": {},
   "outputs": [],
   "source": [
    "df = pd.read_csv(\"../data/transformed/watermain_breaks_train.csv\")"
   ]
  },
  {
   "cell_type": "markdown",
   "id": "378597f3-ff25-4627-9681-b18ab82a5702",
   "metadata": {},
   "source": [
    "<h2>Feature Engineering</h2>\n",
    "\n",
    "2015-2018 is our target period\n",
    "\n",
    "Outcome: if the pipe will breaks in the next 3 years"
   ]
  },
  {
   "cell_type": "code",
   "execution_count": 4,
   "id": "441b9fb1-98ca-4ef0-b564-2c8f81e86ed3",
   "metadata": {},
   "outputs": [],
   "source": [
    "df['first_break'] = pd.to_datetime(df['first_break'])\n",
    "df['most_recent_break'] = pd.to_datetime(df['most_recent_break'])"
   ]
  },
  {
   "cell_type": "code",
   "execution_count": 11,
   "id": "b7ed3c08-1446-4381-af0e-11cc18058033",
   "metadata": {},
   "outputs": [
    {
     "data": {
      "text/plain": [
       "0      [[Timestamp('2018-07-13 07:05:00')]]\n",
       "1      [[Timestamp('2013-05-20 11:43:00')]]\n",
       "2      [[Timestamp('2015-08-28 13:28:00')]]\n",
       "3      [[Timestamp('2014-01-30 08:48:00')]]\n",
       "4      [[Timestamp('2015-02-11 11:12:00')]]\n",
       "                       ...                 \n",
       "908    [[Timestamp('2014-04-22 12:24:00')]]\n",
       "909    [[Timestamp('2018-07-13 06:43:00')]]\n",
       "910    [[Timestamp('2020-09-16 06:10:00')]]\n",
       "911    [[Timestamp('2021-02-05 11:20:00')]]\n",
       "912    [[Timestamp('2018-12-11 06:06:00')]]\n",
       "Name: all_breaks, Length: 913, dtype: object"
      ]
     },
     "execution_count": 11,
     "metadata": {},
     "output_type": "execute_result"
    }
   ],
   "source": [
    "df['all_breaks'].apply(lambda s: s.split(\",\"))\n",
    "\n",
    "#(lambda s: [pd.to_datetime(t) for t in s])"
   ]
  },
  {
   "cell_type": "code",
   "execution_count": null,
   "id": "fadbf423-6306-4903-a58c-1a1668a62657",
   "metadata": {},
   "outputs": [],
   "source": []
  }
 ],
 "metadata": {
  "kernelspec": {
   "display_name": "Python 3 (ipykernel)",
   "language": "python",
   "name": "python3"
  },
  "language_info": {
   "codemirror_mode": {
    "name": "ipython",
    "version": 3
   },
   "file_extension": ".py",
   "mimetype": "text/x-python",
   "name": "python",
   "nbconvert_exporter": "python",
   "pygments_lexer": "ipython3",
   "version": "3.11.6"
  }
 },
 "nbformat": 4,
 "nbformat_minor": 5
}
