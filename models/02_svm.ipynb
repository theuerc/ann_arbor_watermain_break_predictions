{
 "cells": [
  {
   "cell_type": "markdown",
   "id": "76aa341c-cfed-48f4-8102-07aeda6d5a76",
   "metadata": {},
   "source": [
    "<h1>Recreating Results of Syracuse Paper</h1>"
   ]
  },
  {
   "cell_type": "code",
   "execution_count": 1,
   "id": "9f2b5cc7-f063-4b9f-93d0-e755d1954dd5",
   "metadata": {},
   "outputs": [],
   "source": [
    "import sys  \n",
    "sys.path.insert(1, '../src')"
   ]
  },
  {
   "cell_type": "code",
   "execution_count": 32,
   "id": "e5436c83-e7f7-45c0-ae54-bdae6c127bac",
   "metadata": {},
   "outputs": [],
   "source": [
    "import os\n",
    "import numpy as np\n",
    "import pandas as pd\n",
    "\n",
    "from utils import * \n",
    "from sklearn.svm import SVC\n",
    "from sklearn.metrics import classification_report, f1_score, auc\n",
    "from sklearn.preprocessing import StandardScaler"
   ]
  },
  {
   "cell_type": "code",
   "execution_count": 3,
   "id": "8ecdeccf-cc39-4326-a2b9-f1ffdee33a00",
   "metadata": {},
   "outputs": [],
   "source": [
    "pd.options.mode.chained_assignment = None"
   ]
  },
  {
   "cell_type": "code",
   "execution_count": 4,
   "id": "945537bf-7057-4ac2-a48a-e31e08427385",
   "metadata": {},
   "outputs": [],
   "source": [
    "df = pd.read_csv(\"../data/transformed/watermain_breaks_train.csv\")\n",
    "val = pd.read_csv(\"../data/transformed/watermain_breaks_validation.csv\")\n",
    "test = pd.read_csv(\"../data/transformed/watermain_breaks_test.csv\")"
   ]
  },
  {
   "cell_type": "markdown",
   "id": "378597f3-ff25-4627-9681-b18ab82a5702",
   "metadata": {},
   "source": [
    "<h2>Prepare Data</h2>\n",
    "\n",
    "2015-2018 is our target period\n",
    "\n",
    "Outcome: if the pipe will breaks in the next 3 years"
   ]
  },
  {
   "cell_type": "code",
   "execution_count": 5,
   "id": "43b6f391-f531-4b2c-a353-4ecabb346091",
   "metadata": {},
   "outputs": [],
   "source": [
    "#looking from 2015 trying to predict next 3 years\n",
    "CUTOFF = pd.to_datetime('01-01-2016')\n",
    "TEST_VAL_CUTOFF = pd.to_datetime('01-01-2019')"
   ]
  },
  {
   "cell_type": "code",
   "execution_count": 6,
   "id": "287ca00c-b24c-47ba-b666-05a77c4cb427",
   "metadata": {},
   "outputs": [],
   "source": [
    "df = process_date_cols(df, CUTOFF)"
   ]
  },
  {
   "cell_type": "code",
   "execution_count": 7,
   "id": "6ba846a2-0446-48cc-a2f5-40269f5c9219",
   "metadata": {},
   "outputs": [],
   "source": [
    "cols = ['PressureSy', 'STATUS', 'MATERIAL', 'SUBTYPE']\n",
    "df = svm_data_transform_pipeline(df, CUTOFF, cols)"
   ]
  },
  {
   "cell_type": "code",
   "execution_count": 8,
   "id": "672ad569-1ba6-4c25-82e1-a48492907c24",
   "metadata": {},
   "outputs": [],
   "source": [
    "val = process_date_cols(val, TEST_VAL_CUTOFF)\n",
    "val = svm_data_transform_pipeline(val, TEST_VAL_CUTOFF, cols)\n",
    "\n",
    "\n",
    "test = process_date_cols(test, TEST_VAL_CUTOFF)\n",
    "test = svm_data_transform_pipeline(test, TEST_VAL_CUTOFF, cols)"
   ]
  },
  {
   "cell_type": "markdown",
   "id": "49e5724a-87f3-44cd-b9a0-052bb7071cd4",
   "metadata": {},
   "source": [
    "<h3>Handling some differences in dummy variables</h3>"
   ]
  },
  {
   "cell_type": "code",
   "execution_count": 9,
   "id": "95e4c4dd-bd51-4c7c-aedc-d169f596537f",
   "metadata": {},
   "outputs": [],
   "source": [
    "all_cols = list(test.columns) \n",
    "all_cols.extend(list(df.columns))\n",
    "all_cols.extend(list(val.columns))\n",
    "\n",
    "for col in all_cols: \n",
    "    if col not in list(test.columns):\n",
    "        test[col] = 0\n",
    "    if col not in list(val.columns):\n",
    "        val[col] = 0\n",
    "    if col not in list(df.columns):\n",
    "        df[col] = 0"
   ]
  },
  {
   "cell_type": "markdown",
   "id": "3ed423cd-f461-474d-aa68-a9760d779f14",
   "metadata": {},
   "source": [
    "<h2>Split</h2>"
   ]
  },
  {
   "cell_type": "code",
   "execution_count": 14,
   "id": "23a607e7-c6b2-43a8-8579-9452a3f7d2ba",
   "metadata": {},
   "outputs": [],
   "source": [
    "X_train = df.drop(columns = ['will_break'])\n",
    "y_train = df['will_break']\n",
    "\n",
    "X_test = test.drop(columns = ['will_break'])\n",
    "y_test = test['will_break']\n",
    "\n",
    "X_val = val.drop(columns = ['will_break'])\n",
    "y_val = val['will_break']"
   ]
  },
  {
   "cell_type": "markdown",
   "id": "56a3a78a-66d3-47e2-8994-a838ac113478",
   "metadata": {},
   "source": [
    "<h2>Scaling</h2>"
   ]
  },
  {
   "cell_type": "code",
   "execution_count": 15,
   "id": "d042266b-7153-4fe9-aedc-6d25bd2f0e57",
   "metadata": {},
   "outputs": [],
   "source": [
    "numeric_cols = list(X_train.columns)\n",
    "numeric_cols.remove('installation_year')"
   ]
  },
  {
   "cell_type": "code",
   "execution_count": 16,
   "id": "e812e3a8-f1c2-496a-a45b-72390ce72b78",
   "metadata": {},
   "outputs": [],
   "source": [
    "scaler = StandardScaler()\n",
    "X_train_scaled = scaler.fit_transform(X_train[numeric_cols])\n",
    "X_test_scaled = scaler.transform(X_test[numeric_cols])\n",
    "X_val_scaled = scaler.transform(X_val[numeric_cols])\n",
    "\n",
    "X_train = np.concatenate([X_train_scaled, np.array(X_train['installation_year'].values).reshape(-1, 1)], axis = 1)\n",
    "X_test = np.concatenate([X_test_scaled, np.array(X_test['installation_year'].values).reshape(-1, 1)], axis = 1)\n",
    "X_val = np.concatenate([X_val_scaled, np.array(X_val['installation_year'].values).reshape(-1, 1)], axis = 1)"
   ]
  },
  {
   "cell_type": "markdown",
   "id": "8c13fea4-597e-4d34-9986-7b42807b91e3",
   "metadata": {},
   "source": [
    "<h2>Cross Validation</h2>"
   ]
  },
  {
   "cell_type": "code",
   "execution_count": 21,
   "id": "fd28da84-9a01-42e2-9a08-1a41d7b4e4bc",
   "metadata": {},
   "outputs": [
    {
     "data": {
      "text/html": [
       "<style>#sk-container-id-1 {color: black;}#sk-container-id-1 pre{padding: 0;}#sk-container-id-1 div.sk-toggleable {background-color: white;}#sk-container-id-1 label.sk-toggleable__label {cursor: pointer;display: block;width: 100%;margin-bottom: 0;padding: 0.3em;box-sizing: border-box;text-align: center;}#sk-container-id-1 label.sk-toggleable__label-arrow:before {content: \"▸\";float: left;margin-right: 0.25em;color: #696969;}#sk-container-id-1 label.sk-toggleable__label-arrow:hover:before {color: black;}#sk-container-id-1 div.sk-estimator:hover label.sk-toggleable__label-arrow:before {color: black;}#sk-container-id-1 div.sk-toggleable__content {max-height: 0;max-width: 0;overflow: hidden;text-align: left;background-color: #f0f8ff;}#sk-container-id-1 div.sk-toggleable__content pre {margin: 0.2em;color: black;border-radius: 0.25em;background-color: #f0f8ff;}#sk-container-id-1 input.sk-toggleable__control:checked~div.sk-toggleable__content {max-height: 200px;max-width: 100%;overflow: auto;}#sk-container-id-1 input.sk-toggleable__control:checked~label.sk-toggleable__label-arrow:before {content: \"▾\";}#sk-container-id-1 div.sk-estimator input.sk-toggleable__control:checked~label.sk-toggleable__label {background-color: #d4ebff;}#sk-container-id-1 div.sk-label input.sk-toggleable__control:checked~label.sk-toggleable__label {background-color: #d4ebff;}#sk-container-id-1 input.sk-hidden--visually {border: 0;clip: rect(1px 1px 1px 1px);clip: rect(1px, 1px, 1px, 1px);height: 1px;margin: -1px;overflow: hidden;padding: 0;position: absolute;width: 1px;}#sk-container-id-1 div.sk-estimator {font-family: monospace;background-color: #f0f8ff;border: 1px dotted black;border-radius: 0.25em;box-sizing: border-box;margin-bottom: 0.5em;}#sk-container-id-1 div.sk-estimator:hover {background-color: #d4ebff;}#sk-container-id-1 div.sk-parallel-item::after {content: \"\";width: 100%;border-bottom: 1px solid gray;flex-grow: 1;}#sk-container-id-1 div.sk-label:hover label.sk-toggleable__label {background-color: #d4ebff;}#sk-container-id-1 div.sk-serial::before {content: \"\";position: absolute;border-left: 1px solid gray;box-sizing: border-box;top: 0;bottom: 0;left: 50%;z-index: 0;}#sk-container-id-1 div.sk-serial {display: flex;flex-direction: column;align-items: center;background-color: white;padding-right: 0.2em;padding-left: 0.2em;position: relative;}#sk-container-id-1 div.sk-item {position: relative;z-index: 1;}#sk-container-id-1 div.sk-parallel {display: flex;align-items: stretch;justify-content: center;background-color: white;position: relative;}#sk-container-id-1 div.sk-item::before, #sk-container-id-1 div.sk-parallel-item::before {content: \"\";position: absolute;border-left: 1px solid gray;box-sizing: border-box;top: 0;bottom: 0;left: 50%;z-index: -1;}#sk-container-id-1 div.sk-parallel-item {display: flex;flex-direction: column;z-index: 1;position: relative;background-color: white;}#sk-container-id-1 div.sk-parallel-item:first-child::after {align-self: flex-end;width: 50%;}#sk-container-id-1 div.sk-parallel-item:last-child::after {align-self: flex-start;width: 50%;}#sk-container-id-1 div.sk-parallel-item:only-child::after {width: 0;}#sk-container-id-1 div.sk-dashed-wrapped {border: 1px dashed gray;margin: 0 0.4em 0.5em 0.4em;box-sizing: border-box;padding-bottom: 0.4em;background-color: white;}#sk-container-id-1 div.sk-label label {font-family: monospace;font-weight: bold;display: inline-block;line-height: 1.2em;}#sk-container-id-1 div.sk-label-container {text-align: center;}#sk-container-id-1 div.sk-container {/* jupyter's `normalize.less` sets `[hidden] { display: none; }` but bootstrap.min.css set `[hidden] { display: none !important; }` so we also need the `!important` here to be able to override the default hidden behavior on the sphinx rendered scikit-learn.org. See: https://github.com/scikit-learn/scikit-learn/issues/21755 */display: inline-block !important;position: relative;}#sk-container-id-1 div.sk-text-repr-fallback {display: none;}</style><div id=\"sk-container-id-1\" class=\"sk-top-container\"><div class=\"sk-text-repr-fallback\"><pre>SVC()</pre><b>In a Jupyter environment, please rerun this cell to show the HTML representation or trust the notebook. <br />On GitHub, the HTML representation is unable to render, please try loading this page with nbviewer.org.</b></div><div class=\"sk-container\" hidden><div class=\"sk-item\"><div class=\"sk-estimator sk-toggleable\"><input class=\"sk-toggleable__control sk-hidden--visually\" id=\"sk-estimator-id-1\" type=\"checkbox\" checked><label for=\"sk-estimator-id-1\" class=\"sk-toggleable__label sk-toggleable__label-arrow\">SVC</label><div class=\"sk-toggleable__content\"><pre>SVC()</pre></div></div></div></div></div>"
      ],
      "text/plain": [
       "SVC()"
      ]
     },
     "execution_count": 21,
     "metadata": {},
     "output_type": "execute_result"
    }
   ],
   "source": [
    "svc = SVC()\n",
    "svc.fit(X_train, y_train)"
   ]
  },
  {
   "cell_type": "code",
   "execution_count": 22,
   "id": "47d18eca-9be0-43f6-b5b1-47921276c11d",
   "metadata": {},
   "outputs": [
    {
     "data": {
      "text/plain": [
       "0.9908883826879271"
      ]
     },
     "execution_count": 22,
     "metadata": {},
     "output_type": "execute_result"
    }
   ],
   "source": [
    "svc.score(X_test, y_test)"
   ]
  },
  {
   "cell_type": "code",
   "execution_count": 26,
   "id": "2cf0cb07-4961-4024-a471-228530cf1da7",
   "metadata": {},
   "outputs": [],
   "source": [
    "pred = svc.predict(X_val)"
   ]
  },
  {
   "cell_type": "code",
   "execution_count": 28,
   "id": "8ff38006-6c26-487c-9479-322076636f80",
   "metadata": {},
   "outputs": [
    {
     "name": "stdout",
     "output_type": "stream",
     "text": [
      "              precision    recall  f1-score   support\n",
      "\n",
      "           0       1.00      0.98      0.99       525\n",
      "           1       0.00      0.00      0.00         0\n",
      "\n",
      "    accuracy                           0.98       525\n",
      "   macro avg       0.50      0.49      0.50       525\n",
      "weighted avg       1.00      0.98      0.99       525\n",
      "\n"
     ]
    },
    {
     "name": "stderr",
     "output_type": "stream",
     "text": [
      "/Users/haleyjohnson/miniconda3/lib/python3.11/site-packages/sklearn/metrics/_classification.py:1469: UndefinedMetricWarning: Recall and F-score are ill-defined and being set to 0.0 in labels with no true samples. Use `zero_division` parameter to control this behavior.\n",
      "  _warn_prf(average, modifier, msg_start, len(result))\n",
      "/Users/haleyjohnson/miniconda3/lib/python3.11/site-packages/sklearn/metrics/_classification.py:1469: UndefinedMetricWarning: Recall and F-score are ill-defined and being set to 0.0 in labels with no true samples. Use `zero_division` parameter to control this behavior.\n",
      "  _warn_prf(average, modifier, msg_start, len(result))\n",
      "/Users/haleyjohnson/miniconda3/lib/python3.11/site-packages/sklearn/metrics/_classification.py:1469: UndefinedMetricWarning: Recall and F-score are ill-defined and being set to 0.0 in labels with no true samples. Use `zero_division` parameter to control this behavior.\n",
      "  _warn_prf(average, modifier, msg_start, len(result))\n"
     ]
    }
   ],
   "source": [
    "print(classification_report(pred, y_val))"
   ]
  },
  {
   "cell_type": "code",
   "execution_count": 30,
   "id": "04d2ae16-9a67-4c72-9394-1a35e73af384",
   "metadata": {},
   "outputs": [
    {
     "data": {
      "text/plain": [
       "0.0"
      ]
     },
     "execution_count": 30,
     "metadata": {},
     "output_type": "execute_result"
    }
   ],
   "source": [
    "f1_score(pred, y_val)"
   ]
  },
  {
   "cell_type": "code",
   "execution_count": 33,
   "id": "51978100-080e-4eaf-b69f-6f6c8dcceff4",
   "metadata": {},
   "outputs": [
    {
     "data": {
      "text/plain": [
       "0.0"
      ]
     },
     "execution_count": 33,
     "metadata": {},
     "output_type": "execute_result"
    }
   ],
   "source": [
    "auc(pred, y_val)"
   ]
  },
  {
   "cell_type": "code",
   "execution_count": null,
   "id": "b13bd653-dfa7-43c9-af18-dd9a4d7fcd37",
   "metadata": {},
   "outputs": [],
   "source": []
  }
 ],
 "metadata": {
  "kernelspec": {
   "display_name": "Python 3 (ipykernel)",
   "language": "python",
   "name": "python3"
  },
  "language_info": {
   "codemirror_mode": {
    "name": "ipython",
    "version": 3
   },
   "file_extension": ".py",
   "mimetype": "text/x-python",
   "name": "python",
   "nbconvert_exporter": "python",
   "pygments_lexer": "ipython3",
   "version": "3.11.6"
  }
 },
 "nbformat": 4,
 "nbformat_minor": 5
}
