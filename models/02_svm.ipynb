{
 "cells": [
  {
   "cell_type": "markdown",
   "id": "76aa341c-cfed-48f4-8102-07aeda6d5a76",
   "metadata": {},
   "source": [
    "<h1>Recreating Results of Syracuse Paper</h1>"
   ]
  },
  {
   "cell_type": "code",
   "execution_count": 1,
   "id": "9f2b5cc7-f063-4b9f-93d0-e755d1954dd5",
   "metadata": {},
   "outputs": [],
   "source": [
    "import sys  \n",
    "sys.path.insert(1, '../src')"
   ]
  },
  {
   "cell_type": "code",
   "execution_count": 2,
   "id": "411954ba-cc5b-4079-ac35-0bd3ddd2337d",
   "metadata": {},
   "outputs": [],
   "source": [
    "from utils import * "
   ]
  },
  {
   "cell_type": "code",
   "execution_count": 3,
   "id": "e5436c83-e7f7-45c0-ae54-bdae6c127bac",
   "metadata": {},
   "outputs": [],
   "source": [
    "import os\n",
    "import numpy as np\n",
    "import pandas as pd"
   ]
  },
  {
   "cell_type": "code",
   "execution_count": 4,
   "id": "945537bf-7057-4ac2-a48a-e31e08427385",
   "metadata": {},
   "outputs": [],
   "source": [
    "df = pd.read_csv(\"../data/transformed/watermain_breaks_train.csv\")\n",
    "val = pd.read_csv(\"../data/transformed/watermain_breaks_validation.csv\")\n",
    "test = pd.read_csv(\"../data/transformed/watermain_breaks_test.csv\")"
   ]
  },
  {
   "cell_type": "markdown",
   "id": "378597f3-ff25-4627-9681-b18ab82a5702",
   "metadata": {},
   "source": [
    "<h2>Feature Engineering</h2>\n",
    "\n",
    "2015-2018 is our target period\n",
    "\n",
    "Outcome: if the pipe will breaks in the next 3 years"
   ]
  },
  {
   "cell_type": "markdown",
   "id": "c4f10c01-a2c4-400f-ab39-c2f9fcb61257",
   "metadata": {},
   "source": [
    "<h3>Format Dates</h3>"
   ]
  },
  {
   "cell_type": "code",
   "execution_count": 5,
   "id": "43b6f391-f531-4b2c-a353-4ecabb346091",
   "metadata": {},
   "outputs": [],
   "source": [
    "#looking from 2015 trying to predict next 3 years\n",
    "CUTOFF = pd.to_datetime('01-01-2016')"
   ]
  },
  {
   "cell_type": "code",
   "execution_count": 6,
   "id": "441b9fb1-98ca-4ef0-b564-2c8f81e86ed3",
   "metadata": {},
   "outputs": [],
   "source": [
    "df['first_break'] = pd.to_datetime(df['first_break'])\n",
    "df['most_recent_break'] = pd.to_datetime(df['most_recent_break'])\n",
    "df['INSTALLDAT'] = pd.to_datetime(df['INSTALLDAT'])"
   ]
  },
  {
   "cell_type": "code",
   "execution_count": 7,
   "id": "b7ed3c08-1446-4381-af0e-11cc18058033",
   "metadata": {},
   "outputs": [],
   "source": [
    "df['all_breaks'] = df['all_breaks'].astype(str).apply(lambda s: s.split(\",\"))\n",
    "df['all_breaks'] = df['all_breaks'].apply(lambda s: [pd.to_datetime(t) for t in s])"
   ]
  },
  {
   "cell_type": "markdown",
   "id": "a2786f69-4eb6-4110-a8f5-3acb09a60974",
   "metadata": {},
   "source": [
    "Remove any information from after the prediction cutoff"
   ]
  },
  {
   "cell_type": "code",
   "execution_count": 8,
   "id": "9d9dee21-b4d8-4084-84cc-9a88cbd4bd13",
   "metadata": {},
   "outputs": [],
   "source": [
    "df['breaks_before_cutoff'] = df['all_breaks'].apply(lambda s: [t for t in s if t <= CUTOFF])\n",
    "df['breaks_after_cutoff'] = df['all_breaks'].apply(lambda s: [t for t in s if t > CUTOFF])"
   ]
  },
  {
   "cell_type": "code",
   "execution_count": 9,
   "id": "91be84b3-2e6a-4c0f-aa2b-264c76822a17",
   "metadata": {},
   "outputs": [],
   "source": [
    "df['first_break'] = df['first_break'].apply(lambda s: np.where(s <= CUTOFF, s, pd.NaT))\n",
    "df['most_recent_break'] = df['most_recent_break'].apply(lambda s: np.where(s <= CUTOFF, s, pd.NaT))"
   ]
  },
  {
   "cell_type": "code",
   "execution_count": 10,
   "id": "4184d3b5-10bb-4a65-af6a-7c9372a3001a",
   "metadata": {},
   "outputs": [],
   "source": [
    "df['will_break'] = (df['breaks_after_cutoff'].apply(len) > 0).astype(int)"
   ]
  },
  {
   "cell_type": "code",
   "execution_count": 11,
   "id": "da70c828-e3f0-4556-9901-95e341f6f80a",
   "metadata": {},
   "outputs": [
    {
     "data": {
      "text/plain": [
       "0.006550558877047049"
      ]
     },
     "execution_count": 11,
     "metadata": {},
     "output_type": "execute_result"
    }
   ],
   "source": [
    "df['will_break'].mean()"
   ]
  },
  {
   "cell_type": "markdown",
   "id": "196971c4-e96d-4ed2-a7ad-68ee8bd83d46",
   "metadata": {},
   "source": [
    "<h3>Add Features & Transform Categoricals</h3>"
   ]
  },
  {
   "cell_type": "code",
   "execution_count": 12,
   "id": "6ba846a2-0446-48cc-a2f5-40269f5c9219",
   "metadata": {},
   "outputs": [
    {
     "name": "stderr",
     "output_type": "stream",
     "text": [
      "/Users/haleyjohnson/Desktop/SI_670/watermain_break_predictions/models/../src/utils.py:53: SettingWithCopyWarning: \n",
      "A value is trying to be set on a copy of a slice from a DataFrame.\n",
      "Try using .loc[row_indexer,col_indexer] = value instead\n",
      "\n",
      "See the caveats in the documentation: https://pandas.pydata.org/pandas-docs/stable/user_guide/indexing.html#returning-a-view-versus-a-copy\n",
      "  df['installation_year'] = df['installation_year'].astype(int)\n",
      "/Users/haleyjohnson/Desktop/SI_670/watermain_break_predictions/models/../src/utils.py:56: SettingWithCopyWarning: \n",
      "A value is trying to be set on a copy of a slice from a DataFrame.\n",
      "Try using .loc[row_indexer,col_indexer] = value instead\n",
      "\n",
      "See the caveats in the documentation: https://pandas.pydata.org/pandas-docs/stable/user_guide/indexing.html#returning-a-view-versus-a-copy\n",
      "  df['delta_installation_to_first_break'] = df.apply(lambda s: break_timedelta(s, 'first_break'), axis = 1)\n",
      "/Users/haleyjohnson/Desktop/SI_670/watermain_break_predictions/models/../src/utils.py:57: SettingWithCopyWarning: \n",
      "A value is trying to be set on a copy of a slice from a DataFrame.\n",
      "Try using .loc[row_indexer,col_indexer] = value instead\n",
      "\n",
      "See the caveats in the documentation: https://pandas.pydata.org/pandas-docs/stable/user_guide/indexing.html#returning-a-view-versus-a-copy\n",
      "  df['delta_installation_to_most_recent_break'] = df.apply(lambda s: break_timedelta(s, 'most_recent_break'), axis = 1)\n"
     ]
    }
   ],
   "source": [
    "cols = ['PressureSy', 'STATUS', 'MATERIAL', 'SUBTYPE']\n",
    "df = svm_data_transform_pipeline(df, cols, False)"
   ]
  },
  {
   "cell_type": "code",
   "execution_count": 13,
   "id": "2863f7b7-17b8-4095-b495-0b562e672134",
   "metadata": {},
   "outputs": [
    {
     "name": "stdout",
     "output_type": "stream",
     "text": [
      "<class 'pandas.core.frame.DataFrame'>\n",
      "Index: 17350 entries, 0 to 19234\n",
      "Data columns (total 46 columns):\n",
      " #   Column                                   Non-Null Count  Dtype         \n",
      "---  ------                                   --------------  -----         \n",
      " 0   ENABLED                                  17350 non-null  int64         \n",
      " 1   FACILITYID                               17350 non-null  object        \n",
      " 2   LOCATION                                 10763 non-null  object        \n",
      " 3   INSTALLDAT                               17350 non-null  datetime64[ns]\n",
      " 4   SUBTYPE                                  17350 non-null  object        \n",
      " 5   MATERIAL                                 17350 non-null  object        \n",
      " 6   LENGTH                                   17350 non-null  float64       \n",
      " 7   DIAMETER                                 17350 non-null  float64       \n",
      " 8   STATUS                                   17350 non-null  object        \n",
      " 9   PressureSy                               17350 non-null  object        \n",
      " 10  break_status                             17350 non-null  object        \n",
      " 11  all_breaks                               17350 non-null  object        \n",
      " 12  first_break                              182 non-null    datetime64[ns]\n",
      " 13  most_recent_break                        182 non-null    datetime64[ns]\n",
      " 14  breaks_before_cutoff                     17350 non-null  object        \n",
      " 15  breaks_after_cutoff                      17350 non-null  object        \n",
      " 16  will_break                               17350 non-null  int64         \n",
      " 17  installation_year                        17350 non-null  int64         \n",
      " 18  n_previous_breaks                        17350 non-null  int64         \n",
      " 19  delta_installation_to_first_break        17350 non-null  int64         \n",
      " 20  delta_installation_to_most_recent_break  17350 non-null  int64         \n",
      " 21  GRA                                      17350 non-null  bool          \n",
      " 22  NEDPRZ                                   17350 non-null  bool          \n",
      " 23  NEH                                      17350 non-null  bool          \n",
      " 24  NEHEPRZ                                  17350 non-null  bool          \n",
      " 25  NEHWPRZ                                  17350 non-null  bool          \n",
      " 26  OTH                                      17350 non-null  bool          \n",
      " 27  SCIO                                     17350 non-null  bool          \n",
      " 28  SEH                                      17350 non-null  bool          \n",
      " 29  SHE                                      17350 non-null  bool          \n",
      " 30  WH                                       17350 non-null  bool          \n",
      " 31  WNPRZ                                    17350 non-null  bool          \n",
      " 32  IS                                       17350 non-null  bool          \n",
      " 33  CI                                       17350 non-null  bool          \n",
      " 34  CU                                       17350 non-null  bool          \n",
      " 35  DI                                       17350 non-null  bool          \n",
      " 36  GAL                                      17350 non-null  bool          \n",
      " 37  HDPE                                     17350 non-null  bool          \n",
      " 38  PVC                                      17350 non-null  bool          \n",
      " 39  RC                                       17350 non-null  bool          \n",
      " 40  STL                                      17350 non-null  bool          \n",
      " 41  UNK                                      17350 non-null  bool          \n",
      " 42  Hydrant Lead                             17350 non-null  bool          \n",
      " 43  Other                                    17350 non-null  bool          \n",
      " 44  Raw Water                                17350 non-null  bool          \n",
      " 45  Transmission Main                        17350 non-null  bool          \n",
      "dtypes: bool(25), datetime64[ns](3), float64(2), int64(6), object(10)\n",
      "memory usage: 3.3+ MB\n"
     ]
    }
   ],
   "source": [
    "df.info()"
   ]
  },
  {
   "cell_type": "code",
   "execution_count": 14,
   "id": "5edd62eb-ec1d-4dea-a7cc-f6072e0ef90a",
   "metadata": {},
   "outputs": [
    {
     "data": {
      "text/plain": [
       "SUBTYPE\n",
       "Distribution Main    13612\n",
       "Hydrant Lead          2350\n",
       "Transmission Main     1378\n",
       "Other                    8\n",
       "Raw Water                2\n",
       "Name: count, dtype: int64"
      ]
     },
     "execution_count": 14,
     "metadata": {},
     "output_type": "execute_result"
    }
   ],
   "source": [
    "df['SUBTYPE'].value_counts()"
   ]
  },
  {
   "cell_type": "markdown",
   "id": "6985b770-f105-48d1-8597-6cfb75ca7293",
   "metadata": {},
   "source": [
    "<h3>Drop Extra Columns</h3>"
   ]
  },
  {
   "cell_type": "code",
   "execution_count": 15,
   "id": "64b18cd8-a89b-44d6-b9f0-34ca46ff146c",
   "metadata": {},
   "outputs": [],
   "source": [
    "# to_drop = ['ENABLED', 'FACILITYID', 'LOCATION', 'INSTALLDAT', 'SUBTYPE', 'MATERIAL', 'STATUS', 'PressureSy']\n",
    "# df = df.drop(columns = to_drop)"
   ]
  },
  {
   "cell_type": "code",
   "execution_count": null,
   "id": "3907a33b-dcdc-4dba-9824-47dfa321db30",
   "metadata": {},
   "outputs": [],
   "source": []
  }
 ],
 "metadata": {
  "kernelspec": {
   "display_name": "Python 3 (ipykernel)",
   "language": "python",
   "name": "python3"
  },
  "language_info": {
   "codemirror_mode": {
    "name": "ipython",
    "version": 3
   },
   "file_extension": ".py",
   "mimetype": "text/x-python",
   "name": "python",
   "nbconvert_exporter": "python",
   "pygments_lexer": "ipython3",
   "version": "3.11.6"
  }
 },
 "nbformat": 4,
 "nbformat_minor": 5
}
