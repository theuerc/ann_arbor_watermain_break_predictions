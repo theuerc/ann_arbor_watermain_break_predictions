{
 "cells": [
  {
   "cell_type": "markdown",
   "id": "76aa341c-cfed-48f4-8102-07aeda6d5a76",
   "metadata": {},
   "source": [
    "<h1>Recreating Results of Syracuse Paper</h1>"
   ]
  },
  {
   "cell_type": "code",
   "execution_count": 1,
   "id": "9f2b5cc7-f063-4b9f-93d0-e755d1954dd5",
   "metadata": {},
   "outputs": [],
   "source": [
    "import sys  \n",
    "sys.path.insert(1, '../src')"
   ]
  },
  {
   "cell_type": "code",
   "execution_count": 2,
   "id": "e5436c83-e7f7-45c0-ae54-bdae6c127bac",
   "metadata": {},
   "outputs": [],
   "source": [
    "import os\n",
    "import numpy as np\n",
    "import pandas as pd\n",
    "\n",
    "from utils import * \n",
    "from sklearn.preprocessing import StandardScaler"
   ]
  },
  {
   "cell_type": "code",
   "execution_count": 3,
   "id": "8ecdeccf-cc39-4326-a2b9-f1ffdee33a00",
   "metadata": {},
   "outputs": [],
   "source": [
    "pd.options.mode.chained_assignment = None"
   ]
  },
  {
   "cell_type": "code",
   "execution_count": 4,
   "id": "945537bf-7057-4ac2-a48a-e31e08427385",
   "metadata": {},
   "outputs": [],
   "source": [
    "df = pd.read_csv(\"../data/transformed/watermain_breaks_train.csv\")\n",
    "val = pd.read_csv(\"../data/transformed/watermain_breaks_validation.csv\")\n",
    "test = pd.read_csv(\"../data/transformed/watermain_breaks_test.csv\")"
   ]
  },
  {
   "cell_type": "markdown",
   "id": "378597f3-ff25-4627-9681-b18ab82a5702",
   "metadata": {},
   "source": [
    "<h2>Prepare Data</h2>\n",
    "\n",
    "2015-2018 is our target period\n",
    "\n",
    "Outcome: if the pipe will breaks in the next 3 years"
   ]
  },
  {
   "cell_type": "code",
   "execution_count": 5,
   "id": "43b6f391-f531-4b2c-a353-4ecabb346091",
   "metadata": {},
   "outputs": [],
   "source": [
    "#looking from 2015 trying to predict next 3 years\n",
    "CUTOFF = pd.to_datetime('01-01-2016')\n",
    "TEST_VAL_CUTOFF = pd.to_datetime('01-01-2019')"
   ]
  },
  {
   "cell_type": "code",
   "execution_count": 6,
   "id": "287ca00c-b24c-47ba-b666-05a77c4cb427",
   "metadata": {},
   "outputs": [],
   "source": [
    "df = process_date_cols(df, CUTOFF)"
   ]
  },
  {
   "cell_type": "code",
   "execution_count": 7,
   "id": "6ba846a2-0446-48cc-a2f5-40269f5c9219",
   "metadata": {},
   "outputs": [],
   "source": [
    "cols = ['PressureSy', 'STATUS', 'MATERIAL', 'SUBTYPE']\n",
    "df = svm_data_transform_pipeline(df, CUTOFF, cols)"
   ]
  },
  {
   "cell_type": "code",
   "execution_count": 8,
   "id": "672ad569-1ba6-4c25-82e1-a48492907c24",
   "metadata": {},
   "outputs": [],
   "source": [
    "val = process_date_cols(val, TEST_VAL_CUTOFF)\n",
    "val = svm_data_transform_pipeline(val, TEST_VAL_CUTOFF, cols)\n",
    "\n",
    "\n",
    "test = process_date_cols(test, TEST_VAL_CUTOFF)\n",
    "test = svm_data_transform_pipeline(test, TEST_VAL_CUTOFF, cols)"
   ]
  },
  {
   "cell_type": "markdown",
   "id": "49e5724a-87f3-44cd-b9a0-052bb7071cd4",
   "metadata": {},
   "source": [
    "<h3>Handling some differences in dummy variables</h3>"
   ]
  },
  {
   "cell_type": "code",
   "execution_count": 9,
   "id": "95e4c4dd-bd51-4c7c-aedc-d169f596537f",
   "metadata": {},
   "outputs": [],
   "source": [
    "all_cols = list(test.columns) \n",
    "all_cols.extend(list(df.columns))\n",
    "all_cols.extend(list(val.columns))\n",
    "\n",
    "for col in all_cols: \n",
    "    if col not in list(test.columns):\n",
    "        test[col] = 0\n",
    "    if col not in list(val.columns):\n",
    "        val[col] = 0\n",
    "    if col not in list(df.columns):\n",
    "        df[col] = 0"
   ]
  },
  {
   "cell_type": "markdown",
   "id": "3ed423cd-f461-474d-aa68-a9760d779f14",
   "metadata": {},
   "source": [
    "<h2>Split</h2>"
   ]
  },
  {
   "cell_type": "code",
   "execution_count": 14,
   "id": "23a607e7-c6b2-43a8-8579-9452a3f7d2ba",
   "metadata": {},
   "outputs": [],
   "source": [
    "X_train = df.drop(columns = ['will_break'])\n",
    "y_train = df['will_break']\n",
    "\n",
    "X_test = test.drop(columns = ['will_break'])\n",
    "y_test = test['will_break']\n",
    "\n",
    "X_val = val.drop(columns = ['will_break'])\n",
    "y_val = val['will_break']"
   ]
  },
  {
   "cell_type": "markdown",
   "id": "56a3a78a-66d3-47e2-8994-a838ac113478",
   "metadata": {},
   "source": [
    "<h2>Scaling</h2>"
   ]
  },
  {
   "cell_type": "code",
   "execution_count": 15,
   "id": "d042266b-7153-4fe9-aedc-6d25bd2f0e57",
   "metadata": {},
   "outputs": [],
   "source": [
    "numeric_cols = list(X_train.columns)\n",
    "numeric_cols.remove('installation_year')"
   ]
  },
  {
   "cell_type": "code",
   "execution_count": 16,
   "id": "e812e3a8-f1c2-496a-a45b-72390ce72b78",
   "metadata": {},
   "outputs": [],
   "source": [
    "scaler = StandardScaler()\n",
    "X_train_scaled = scaler.fit_transform(X_train[numeric_cols])\n",
    "X_test_scaled = scaler.transform(X_test[numeric_cols])\n",
    "X_val_scaled = scaler.transform(X_val[numeric_cols])\n",
    "\n",
    "X_train = np.concatenate([X_train_scaled, np.array(X_train['installation_year'].values).reshape(-1, 1)], axis = 1)\n",
    "X_test = np.concatenate([X_test_scaled, np.array(X_test['installation_year'].values).reshape(-1, 1)], axis = 1)\n",
    "X_val = np.concatenate([X_val_scaled, np.array(X_val['installation_year'].values).reshape(-1, 1)], axis = 1)"
   ]
  },
  {
   "cell_type": "markdown",
   "id": "8c13fea4-597e-4d34-9986-7b42807b91e3",
   "metadata": {},
   "source": [
    "<h2>Cross Validation</h2>"
   ]
  },
  {
   "cell_type": "code",
   "execution_count": null,
   "id": "fd28da84-9a01-42e2-9a08-1a41d7b4e4bc",
   "metadata": {},
   "outputs": [],
   "source": []
  }
 ],
 "metadata": {
  "kernelspec": {
   "display_name": "Python 3 (ipykernel)",
   "language": "python",
   "name": "python3"
  },
  "language_info": {
   "codemirror_mode": {
    "name": "ipython",
    "version": 3
   },
   "file_extension": ".py",
   "mimetype": "text/x-python",
   "name": "python",
   "nbconvert_exporter": "python",
   "pygments_lexer": "ipython3",
   "version": "3.11.6"
  }
 },
 "nbformat": 4,
 "nbformat_minor": 5
}
