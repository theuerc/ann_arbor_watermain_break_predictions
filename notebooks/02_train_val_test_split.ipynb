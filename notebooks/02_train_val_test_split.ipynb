{
 "cells": [
  {
   "cell_type": "markdown",
   "id": "c8fc32ae-be85-417f-992b-5cf694f3db33",
   "metadata": {},
   "source": [
    "<h1>Split time series data</h1>"
   ]
  },
  {
   "cell_type": "code",
   "execution_count": 1,
   "id": "45845b6c-8b01-4f82-ba69-d1a7588fbb79",
   "metadata": {},
   "outputs": [],
   "source": [
    "import os \n",
    "import random\n",
    "import numpy as np \n",
    "import pandas as pd"
   ]
  },
  {
   "cell_type": "code",
   "execution_count": 2,
   "id": "cb9cf8f1-28da-4201-ae59-1eb688e7c627",
   "metadata": {},
   "outputs": [],
   "source": [
    "df = pd.read_csv(\"../data/transformed/watermain_breaks_dataset.csv\")"
   ]
  },
  {
   "cell_type": "code",
   "execution_count": 3,
   "id": "a57f2f1a-50a4-4db8-9805-be650adbff13",
   "metadata": {},
   "outputs": [],
   "source": [
    "df['first_break'] = pd.to_datetime(df['first_break'])\n",
    "df['most_recent_break'] = pd.to_datetime(df['most_recent_break'])"
   ]
  },
  {
   "cell_type": "markdown",
   "id": "ef1f5712-34d3-47ac-b4ef-a8090d91c236",
   "metadata": {},
   "source": [
    "See current date range"
   ]
  },
  {
   "cell_type": "code",
   "execution_count": 4,
   "id": "3b51dd5b-adf4-4dd2-975c-13eab53bbdbe",
   "metadata": {},
   "outputs": [
    {
     "data": {
      "text/plain": [
       "max   2023-08-07 14:04:00\n",
       "min   2013-01-02 08:49:00\n",
       "Name: first_break, dtype: datetime64[ns]"
      ]
     },
     "execution_count": 4,
     "metadata": {},
     "output_type": "execute_result"
    }
   ],
   "source": [
    "df['first_break'].agg(['max', 'min'])"
   ]
  },
  {
   "cell_type": "code",
   "execution_count": 5,
   "id": "f65415aa-07ad-43bb-a776-21babbcf38b8",
   "metadata": {},
   "outputs": [
    {
     "data": {
      "text/plain": [
       "max   2023-08-07 14:04:00\n",
       "min   2013-01-02 08:49:00\n",
       "Name: most_recent_break, dtype: datetime64[ns]"
      ]
     },
     "execution_count": 5,
     "metadata": {},
     "output_type": "execute_result"
    }
   ],
   "source": [
    "df['most_recent_break'].agg(['max', 'min'])"
   ]
  },
  {
   "cell_type": "code",
   "execution_count": 6,
   "id": "32fbe26e-8bc6-4f47-9e5a-314449ca436e",
   "metadata": {},
   "outputs": [
    {
     "data": {
      "text/plain": [
       "first_break\n",
       "2014.0    89\n",
       "2013.0    80\n",
       "2015.0    78\n",
       "2019.0    68\n",
       "2016.0    65\n",
       "2022.0    64\n",
       "2017.0    61\n",
       "2018.0    58\n",
       "2021.0    49\n",
       "2020.0    47\n",
       "2023.0    29\n",
       "Name: count, dtype: int64"
      ]
     },
     "execution_count": 6,
     "metadata": {},
     "output_type": "execute_result"
    }
   ],
   "source": [
    "df['first_break'].dt.year.value_counts()"
   ]
  },
  {
   "cell_type": "markdown",
   "id": "bdd34d39-2fd6-4b62-8af5-51168eb131ac",
   "metadata": {},
   "source": [
    "<h2>Split Data</h2>\n",
    "\n",
    "Using January 1st, 2019 as cutoff"
   ]
  },
  {
   "cell_type": "code",
   "execution_count": 7,
   "id": "bbf92d3a-7161-4cc0-bf07-b55a5ef07062",
   "metadata": {},
   "outputs": [],
   "source": [
    "no_breaks = df[pd.isnull(df['first_break'])]\n",
    "breaks = df[~pd.isnull(df['first_break'])]"
   ]
  },
  {
   "cell_type": "code",
   "execution_count": 8,
   "id": "9a698199-9393-43d0-b4d8-25679e3b4898",
   "metadata": {},
   "outputs": [],
   "source": [
    "#how much of the total data we want in train set\n",
    "TRAIN_SIZE = 0.7\n",
    "TEST_N = int(np.round(breaks.shape[0] * TRAIN_SIZE))"
   ]
  },
  {
   "cell_type": "code",
   "execution_count": 9,
   "id": "e83799d1-1616-467c-b09e-3488f9ec56ed",
   "metadata": {},
   "outputs": [],
   "source": [
    "facility_ids = breaks['FACILITYID'].to_list()\n",
    "#setting random state\n",
    "random.Random(42).shuffle(facility_ids)"
   ]
  },
  {
   "cell_type": "code",
   "execution_count": 10,
   "id": "97a4cf98-6b00-4fb6-8229-4cc80ffb423b",
   "metadata": {},
   "outputs": [],
   "source": [
    "train_facility_ids = facility_ids[:TEST_N]\n",
    "test_facility_ids = facility_ids[TEST_N:]"
   ]
  },
  {
   "cell_type": "markdown",
   "id": "975dc57d-5aa3-4e22-a621-96d0179ffdfa",
   "metadata": {},
   "source": [
    "<h3>Train Set</h3>"
   ]
  },
  {
   "cell_type": "code",
   "execution_count": 11,
   "id": "3dbc6090-7779-4297-95b0-5797638169d9",
   "metadata": {},
   "outputs": [],
   "source": [
    "train_test_cutoff = pd.to_datetime('2019-01-01')"
   ]
  },
  {
   "cell_type": "code",
   "execution_count": 12,
   "id": "b32b467b-6e78-4138-bacb-3635f4591e9d",
   "metadata": {},
   "outputs": [],
   "source": [
    "breaks_train = breaks[breaks['first_break'] <= train_test_cutoff]\n",
    "no_breaks_train = df[df['FACILITYID'].isin(train_facility_ids)]\n",
    "train = pd.concat([breaks_train, no_breaks_train])"
   ]
  },
  {
   "cell_type": "markdown",
   "id": "056c87e9-2a98-4e2d-a68b-47488b41f983",
   "metadata": {},
   "source": [
    "<h3>Test & Validation Set</h3>"
   ]
  },
  {
   "cell_type": "code",
   "execution_count": 13,
   "id": "e0218704-482c-4a42-90a3-a0ba1a743d3a",
   "metadata": {},
   "outputs": [],
   "source": [
    "breaks_test = breaks[breaks['first_break'] > train_test_cutoff]\n",
    "no_breaks_test = df[df['FACILITYID'].isin(test_facility_ids)]\n",
    "test = pd.concat([breaks_test, no_breaks_test])"
   ]
  },
  {
   "cell_type": "code",
   "execution_count": 14,
   "id": "2370ec6c-59cb-46ff-83c5-764b68554a8c",
   "metadata": {},
   "outputs": [],
   "source": [
    "#how much of the test set we want to use for validation\n",
    "VALIDATION_SIZE = 0.4\n",
    "VALIDATION_N = int(np.round(test.shape[0] * VALIDATION_SIZE))"
   ]
  },
  {
   "cell_type": "code",
   "execution_count": 15,
   "id": "b3f67e2b-9638-4dcd-b619-c05df0108709",
   "metadata": {},
   "outputs": [],
   "source": [
    "val = test[:VALIDATION_N]\n",
    "test = test[VALIDATION_N:]"
   ]
  },
  {
   "cell_type": "markdown",
   "id": "d27379c4-55a7-4232-bd30-55eb689f7266",
   "metadata": {},
   "source": [
    "<h2>Save to files</h2>"
   ]
  },
  {
   "cell_type": "code",
   "execution_count": 16,
   "id": "7669f9f8-035b-4711-b409-163bd13f0bd3",
   "metadata": {},
   "outputs": [],
   "source": [
    "train.to_csv(\"../data/transformed/watermain_breaks_train.csv\", index = False)"
   ]
  },
  {
   "cell_type": "code",
   "execution_count": 17,
   "id": "55f6916f-320b-4b49-bb0f-1265bd94bbfc",
   "metadata": {},
   "outputs": [],
   "source": [
    "test.to_csv(\"../data/transformed/watermain_breaks_test.csv\", index = False)"
   ]
  },
  {
   "cell_type": "code",
   "execution_count": 18,
   "id": "878d48ce-394d-472d-bcf2-b17d7e848b92",
   "metadata": {},
   "outputs": [],
   "source": [
    "val.to_csv(\"../data/transformed/watermain_breaks_validation.csv\", index = False)"
   ]
  },
  {
   "cell_type": "code",
   "execution_count": null,
   "id": "083f210c-3a58-45c6-8c47-343578c61a27",
   "metadata": {},
   "outputs": [],
   "source": []
  }
 ],
 "metadata": {
  "kernelspec": {
   "display_name": "Python 3 (ipykernel)",
   "language": "python",
   "name": "python3"
  },
  "language_info": {
   "codemirror_mode": {
    "name": "ipython",
    "version": 3
   },
   "file_extension": ".py",
   "mimetype": "text/x-python",
   "name": "python",
   "nbconvert_exporter": "python",
   "pygments_lexer": "ipython3",
   "version": "3.11.6"
  }
 },
 "nbformat": 4,
 "nbformat_minor": 5
}
