{
 "cells": [
  {
   "cell_type": "markdown",
   "id": "c8fc32ae-be85-417f-992b-5cf694f3db33",
   "metadata": {},
   "source": [
    "<h1>Split time series data</h1>"
   ]
  },
  {
   "cell_type": "code",
   "execution_count": 1,
   "id": "45845b6c-8b01-4f82-ba69-d1a7588fbb79",
   "metadata": {},
   "outputs": [],
   "source": [
    "import os \n",
    "import random\n",
    "import numpy as np \n",
    "import pandas as pd"
   ]
  },
  {
   "cell_type": "code",
   "execution_count": 2,
   "id": "cb9cf8f1-28da-4201-ae59-1eb688e7c627",
   "metadata": {},
   "outputs": [],
   "source": [
    "df = pd.read_csv(\"../data/transformed/watermain_breaks_dataset.csv\")"
   ]
  },
  {
   "cell_type": "code",
   "execution_count": 3,
   "id": "a57f2f1a-50a4-4db8-9805-be650adbff13",
   "metadata": {},
   "outputs": [],
   "source": [
    "df['first_break'] = pd.to_datetime(df['first_break'])\n",
    "df['most_recent_break'] = pd.to_datetime(df['most_recent_break'])"
   ]
  },
  {
   "cell_type": "markdown",
   "id": "ef1f5712-34d3-47ac-b4ef-a8090d91c236",
   "metadata": {},
   "source": [
    "See current date range"
   ]
  },
  {
   "cell_type": "code",
   "execution_count": 4,
   "id": "3b51dd5b-adf4-4dd2-975c-13eab53bbdbe",
   "metadata": {},
   "outputs": [
    {
     "data": {
      "text/plain": [
       "max   2023-08-07 14:04:00\n",
       "min   2013-01-02 08:49:00\n",
       "Name: first_break, dtype: datetime64[ns]"
      ]
     },
     "execution_count": 4,
     "metadata": {},
     "output_type": "execute_result"
    }
   ],
   "source": [
    "df['first_break'].agg(['max', 'min'])"
   ]
  },
  {
   "cell_type": "code",
   "execution_count": 5,
   "id": "f65415aa-07ad-43bb-a776-21babbcf38b8",
   "metadata": {},
   "outputs": [
    {
     "data": {
      "text/plain": [
       "max   2023-08-07 14:04:00\n",
       "min   2013-01-02 08:49:00\n",
       "Name: most_recent_break, dtype: datetime64[ns]"
      ]
     },
     "execution_count": 5,
     "metadata": {},
     "output_type": "execute_result"
    }
   ],
   "source": [
    "df['most_recent_break'].agg(['max', 'min'])"
   ]
  },
  {
   "cell_type": "markdown",
   "id": "bdd34d39-2fd6-4b62-8af5-51168eb131ac",
   "metadata": {},
   "source": [
    "<h2>Split Data</h2>\n",
    "\n",
    "Using January 1st, 2019 as cutoff"
   ]
  },
  {
   "cell_type": "code",
   "execution_count": 6,
   "id": "9a698199-9393-43d0-b4d8-25679e3b4898",
   "metadata": {},
   "outputs": [],
   "source": [
    "#how much of the total data we want in train set\n",
    "TRAIN_SIZE = 0.7\n",
    "VALIDATION_SIZE = 0.4\n",
    "TRAIN_TEST_CUTOFF = pd.to_datetime('2019-01-01')\n",
    "\n",
    "TRAIN_N = int(np.round(df.shape[0] * TRAIN_SIZE))"
   ]
  },
  {
   "cell_type": "code",
   "execution_count": 7,
   "id": "bdae89c1-8edc-48e3-b228-e6b751d8fe30",
   "metadata": {},
   "outputs": [],
   "source": [
    "facility_ids = df['FACILITYID'].to_list()\n",
    "\n",
    "random.Random(42).shuffle(facility_ids)\n",
    "\n",
    "train_facility_ids = facility_ids[:TRAIN_N]\n",
    "test_facility_ids = facility_ids[TRAIN_N:]"
   ]
  },
  {
   "cell_type": "code",
   "execution_count": 8,
   "id": "45ecd4bd-b659-4a6a-b86c-3f37ca6dd0ad",
   "metadata": {},
   "outputs": [],
   "source": [
    "test = df[df['FACILITYID'].isin(test_facility_ids)]\n",
    "train = df[df['FACILITYID'].isin(train_facility_ids)]"
   ]
  },
  {
   "cell_type": "code",
   "execution_count": 9,
   "id": "33cd35e1-5339-423d-a9b2-c1ab80b5210e",
   "metadata": {},
   "outputs": [],
   "source": [
    "VAL_N = int(np.round(test.shape[0] * VALIDATION_SIZE))\n",
    "test_facility_ids = test['FACILITYID'].to_list()\n",
    "random.Random(42).shuffle(test_facility_ids)\n",
    "\n",
    "val_facility_ids = test_facility_ids[:VAL_N]"
   ]
  },
  {
   "cell_type": "code",
   "execution_count": 10,
   "id": "c4d0e73f-afcf-49ee-aaf2-59458d7b028a",
   "metadata": {},
   "outputs": [],
   "source": [
    "val = test[test['FACILITYID'].isin(val_facility_ids)]\n",
    "test = test[~test['FACILITYID'].isin(val_facility_ids)]"
   ]
  },
  {
   "cell_type": "markdown",
   "id": "b7c88b1c-e593-4a2f-b698-bc273244c9fe",
   "metadata": {},
   "source": [
    "<h3>Process Dates</h3>"
   ]
  },
  {
   "cell_type": "code",
   "execution_count": 11,
   "id": "bcd465e5-07d1-4ed9-98ba-9bd0e474427c",
   "metadata": {},
   "outputs": [
    {
     "name": "stderr",
     "output_type": "stream",
     "text": [
      "/var/folders/49/3f_15lzd6b57lnzlk4m_9k440000gn/T/ipykernel_50831/2776866981.py:1: SettingWithCopyWarning: \n",
      "A value is trying to be set on a copy of a slice from a DataFrame.\n",
      "Try using .loc[row_indexer,col_indexer] = value instead\n",
      "\n",
      "See the caveats in the documentation: https://pandas.pydata.org/pandas-docs/stable/user_guide/indexing.html#returning-a-view-versus-a-copy\n",
      "  train['all_breaks'] = train['all_breaks'].apply(str)\n",
      "/var/folders/49/3f_15lzd6b57lnzlk4m_9k440000gn/T/ipykernel_50831/2776866981.py:2: SettingWithCopyWarning: \n",
      "A value is trying to be set on a copy of a slice from a DataFrame.\n",
      "Try using .loc[row_indexer,col_indexer] = value instead\n",
      "\n",
      "See the caveats in the documentation: https://pandas.pydata.org/pandas-docs/stable/user_guide/indexing.html#returning-a-view-versus-a-copy\n",
      "  train['all_breaks'] = train['all_breaks'].apply(lambda s: [t for t in s.split(\",\") if pd.to_datetime(t) <= TRAIN_TEST_CUTOFF])\n"
     ]
    }
   ],
   "source": [
    "train['all_breaks'] = train['all_breaks'].apply(str)\n",
    "train['all_breaks'] = train['all_breaks'].apply(lambda s: [t for t in s.split(\",\") if pd.to_datetime(t) <= TRAIN_TEST_CUTOFF])"
   ]
  },
  {
   "cell_type": "code",
   "execution_count": 12,
   "id": "b966e4d4-06c2-46e7-b3c0-c12a9bf1f7c9",
   "metadata": {},
   "outputs": [
    {
     "data": {
      "text/html": [
       "<div>\n",
       "<style scoped>\n",
       "    .dataframe tbody tr th:only-of-type {\n",
       "        vertical-align: middle;\n",
       "    }\n",
       "\n",
       "    .dataframe tbody tr th {\n",
       "        vertical-align: top;\n",
       "    }\n",
       "\n",
       "    .dataframe thead th {\n",
       "        text-align: right;\n",
       "    }\n",
       "</style>\n",
       "<table border=\"1\" class=\"dataframe\">\n",
       "  <thead>\n",
       "    <tr style=\"text-align: right;\">\n",
       "      <th></th>\n",
       "      <th>ENABLED</th>\n",
       "      <th>FACILITYID</th>\n",
       "      <th>LOCATION</th>\n",
       "      <th>INSTALLDAT</th>\n",
       "      <th>SUBTYPE</th>\n",
       "      <th>MATERIAL</th>\n",
       "      <th>LENGTH</th>\n",
       "      <th>DIAMETER</th>\n",
       "      <th>STATUS</th>\n",
       "      <th>PressureSy</th>\n",
       "      <th>break_status</th>\n",
       "      <th>all_breaks</th>\n",
       "      <th>first_break</th>\n",
       "      <th>most_recent_break</th>\n",
       "    </tr>\n",
       "  </thead>\n",
       "  <tbody>\n",
       "    <tr>\n",
       "      <th>0</th>\n",
       "      <td>1</td>\n",
       "      <td>00-77046</td>\n",
       "      <td>Exmoor Rd</td>\n",
       "      <td>2023-10-12</td>\n",
       "      <td>3</td>\n",
       "      <td>DI</td>\n",
       "      <td>7.0</td>\n",
       "      <td>6.0</td>\n",
       "      <td>IS</td>\n",
       "      <td>GED</td>\n",
       "      <td>has never broken</td>\n",
       "      <td>[]</td>\n",
       "      <td>NaT</td>\n",
       "      <td>NaT</td>\n",
       "    </tr>\n",
       "    <tr>\n",
       "      <th>1</th>\n",
       "      <td>1</td>\n",
       "      <td>00-77049</td>\n",
       "      <td>Newcastle Rd</td>\n",
       "      <td>2023-10-05</td>\n",
       "      <td>3</td>\n",
       "      <td>DI</td>\n",
       "      <td>9.0</td>\n",
       "      <td>6.0</td>\n",
       "      <td>IS</td>\n",
       "      <td>GED</td>\n",
       "      <td>has never broken</td>\n",
       "      <td>[]</td>\n",
       "      <td>NaT</td>\n",
       "      <td>NaT</td>\n",
       "    </tr>\n",
       "    <tr>\n",
       "      <th>2</th>\n",
       "      <td>1</td>\n",
       "      <td>00-76773</td>\n",
       "      <td>Melrose Ave &amp; Tuomy Rd</td>\n",
       "      <td>2023-08-15</td>\n",
       "      <td>3</td>\n",
       "      <td>DI</td>\n",
       "      <td>20.0</td>\n",
       "      <td>6.0</td>\n",
       "      <td>IS</td>\n",
       "      <td>GED</td>\n",
       "      <td>has never broken</td>\n",
       "      <td>[]</td>\n",
       "      <td>NaT</td>\n",
       "      <td>NaT</td>\n",
       "    </tr>\n",
       "    <tr>\n",
       "      <th>4</th>\n",
       "      <td>1</td>\n",
       "      <td>00-77041</td>\n",
       "      <td>Olivia Ave</td>\n",
       "      <td>2023-07-18</td>\n",
       "      <td>3</td>\n",
       "      <td>DI</td>\n",
       "      <td>13.0</td>\n",
       "      <td>6.0</td>\n",
       "      <td>IS</td>\n",
       "      <td>GRA</td>\n",
       "      <td>has never broken</td>\n",
       "      <td>[]</td>\n",
       "      <td>NaT</td>\n",
       "      <td>NaT</td>\n",
       "    </tr>\n",
       "    <tr>\n",
       "      <th>7</th>\n",
       "      <td>1</td>\n",
       "      <td>00-77008</td>\n",
       "      <td>E Washington St</td>\n",
       "      <td>2023-05-01</td>\n",
       "      <td>1</td>\n",
       "      <td>DI</td>\n",
       "      <td>21.0</td>\n",
       "      <td>12.0</td>\n",
       "      <td>IS</td>\n",
       "      <td>GRA</td>\n",
       "      <td>has never broken</td>\n",
       "      <td>[]</td>\n",
       "      <td>NaT</td>\n",
       "      <td>NaT</td>\n",
       "    </tr>\n",
       "    <tr>\n",
       "      <th>...</th>\n",
       "      <td>...</td>\n",
       "      <td>...</td>\n",
       "      <td>...</td>\n",
       "      <td>...</td>\n",
       "      <td>...</td>\n",
       "      <td>...</td>\n",
       "      <td>...</td>\n",
       "      <td>...</td>\n",
       "      <td>...</td>\n",
       "      <td>...</td>\n",
       "      <td>...</td>\n",
       "      <td>...</td>\n",
       "      <td>...</td>\n",
       "      <td>...</td>\n",
       "    </tr>\n",
       "    <tr>\n",
       "      <th>27474</th>\n",
       "      <td>1</td>\n",
       "      <td>00-071704</td>\n",
       "      <td>NaN</td>\n",
       "      <td>1950-01-01</td>\n",
       "      <td>1</td>\n",
       "      <td>CI</td>\n",
       "      <td>71.0</td>\n",
       "      <td>6.0</td>\n",
       "      <td>IS</td>\n",
       "      <td>SHE</td>\n",
       "      <td>has broken</td>\n",
       "      <td>[2013-02-01 15:02:00]</td>\n",
       "      <td>2013-02-01 15:02:00</td>\n",
       "      <td>2013-02-01 15:02:00</td>\n",
       "    </tr>\n",
       "    <tr>\n",
       "      <th>27475</th>\n",
       "      <td>1</td>\n",
       "      <td>00-072287</td>\n",
       "      <td>Ashley St</td>\n",
       "      <td>2009-12-08</td>\n",
       "      <td>1</td>\n",
       "      <td>DI</td>\n",
       "      <td>19.0</td>\n",
       "      <td>10.0</td>\n",
       "      <td>IS</td>\n",
       "      <td>GRA</td>\n",
       "      <td>has broken</td>\n",
       "      <td>[]</td>\n",
       "      <td>2021-02-05 11:20:00</td>\n",
       "      <td>2021-02-05 11:20:00</td>\n",
       "    </tr>\n",
       "    <tr>\n",
       "      <th>27476</th>\n",
       "      <td>1</td>\n",
       "      <td>00-073475</td>\n",
       "      <td>Briarcliff St</td>\n",
       "      <td>1962-03-31</td>\n",
       "      <td>1</td>\n",
       "      <td>CI</td>\n",
       "      <td>43.0</td>\n",
       "      <td>6.0</td>\n",
       "      <td>IS</td>\n",
       "      <td>NEH</td>\n",
       "      <td>has broken</td>\n",
       "      <td>[2018-12-11 06:06:00]</td>\n",
       "      <td>2018-12-11 06:06:00</td>\n",
       "      <td>2018-12-11 06:06:00</td>\n",
       "    </tr>\n",
       "    <tr>\n",
       "      <th>27477</th>\n",
       "      <td>1</td>\n",
       "      <td>00-073478</td>\n",
       "      <td>Pomona Rd</td>\n",
       "      <td>1960-01-01</td>\n",
       "      <td>1</td>\n",
       "      <td>CI</td>\n",
       "      <td>0.0</td>\n",
       "      <td>6.0</td>\n",
       "      <td>IS</td>\n",
       "      <td>WH</td>\n",
       "      <td>has broken</td>\n",
       "      <td>[]</td>\n",
       "      <td>2021-11-20 06:30:00</td>\n",
       "      <td>2021-11-20 06:30:00</td>\n",
       "    </tr>\n",
       "    <tr>\n",
       "      <th>27478</th>\n",
       "      <td>1</td>\n",
       "      <td>00-76063</td>\n",
       "      <td>Prairie St</td>\n",
       "      <td>1961-04-04</td>\n",
       "      <td>1</td>\n",
       "      <td>CI</td>\n",
       "      <td>279.0</td>\n",
       "      <td>8.0</td>\n",
       "      <td>IS</td>\n",
       "      <td>NEH</td>\n",
       "      <td>has broken</td>\n",
       "      <td>[]</td>\n",
       "      <td>2023-02-23 12:00:00</td>\n",
       "      <td>2023-02-23 12:00:00</td>\n",
       "    </tr>\n",
       "  </tbody>\n",
       "</table>\n",
       "<p>19235 rows × 14 columns</p>\n",
       "</div>"
      ],
      "text/plain": [
       "       ENABLED FACILITYID                LOCATION  INSTALLDAT  SUBTYPE  \\\n",
       "0            1   00-77046               Exmoor Rd  2023-10-12        3   \n",
       "1            1   00-77049            Newcastle Rd  2023-10-05        3   \n",
       "2            1   00-76773  Melrose Ave & Tuomy Rd  2023-08-15        3   \n",
       "4            1   00-77041              Olivia Ave  2023-07-18        3   \n",
       "7            1   00-77008         E Washington St  2023-05-01        1   \n",
       "...        ...        ...                     ...         ...      ...   \n",
       "27474        1  00-071704                     NaN  1950-01-01        1   \n",
       "27475        1  00-072287               Ashley St  2009-12-08        1   \n",
       "27476        1  00-073475           Briarcliff St  1962-03-31        1   \n",
       "27477        1  00-073478               Pomona Rd  1960-01-01        1   \n",
       "27478        1   00-76063              Prairie St  1961-04-04        1   \n",
       "\n",
       "      MATERIAL  LENGTH  DIAMETER STATUS PressureSy      break_status  \\\n",
       "0           DI     7.0       6.0     IS        GED  has never broken   \n",
       "1           DI     9.0       6.0     IS        GED  has never broken   \n",
       "2           DI    20.0       6.0     IS        GED  has never broken   \n",
       "4           DI    13.0       6.0     IS        GRA  has never broken   \n",
       "7           DI    21.0      12.0     IS        GRA  has never broken   \n",
       "...        ...     ...       ...    ...        ...               ...   \n",
       "27474       CI    71.0       6.0     IS        SHE        has broken   \n",
       "27475       DI    19.0      10.0     IS        GRA        has broken   \n",
       "27476       CI    43.0       6.0     IS        NEH        has broken   \n",
       "27477       CI     0.0       6.0     IS         WH        has broken   \n",
       "27478       CI   279.0       8.0     IS        NEH        has broken   \n",
       "\n",
       "                  all_breaks         first_break   most_recent_break  \n",
       "0                         []                 NaT                 NaT  \n",
       "1                         []                 NaT                 NaT  \n",
       "2                         []                 NaT                 NaT  \n",
       "4                         []                 NaT                 NaT  \n",
       "7                         []                 NaT                 NaT  \n",
       "...                      ...                 ...                 ...  \n",
       "27474  [2013-02-01 15:02:00] 2013-02-01 15:02:00 2013-02-01 15:02:00  \n",
       "27475                     [] 2021-02-05 11:20:00 2021-02-05 11:20:00  \n",
       "27476  [2018-12-11 06:06:00] 2018-12-11 06:06:00 2018-12-11 06:06:00  \n",
       "27477                     [] 2021-11-20 06:30:00 2021-11-20 06:30:00  \n",
       "27478                     [] 2023-02-23 12:00:00 2023-02-23 12:00:00  \n",
       "\n",
       "[19235 rows x 14 columns]"
      ]
     },
     "execution_count": 12,
     "metadata": {},
     "output_type": "execute_result"
    }
   ],
   "source": [
    "train"
   ]
  },
  {
   "cell_type": "code",
   "execution_count": null,
   "id": "24067a6f-d496-4bf0-95c4-f576e9d4c87e",
   "metadata": {},
   "outputs": [],
   "source": []
  },
  {
   "cell_type": "code",
   "execution_count": null,
   "id": "7dc5d56b-b6f1-4f2d-9c6e-9f0d747288b8",
   "metadata": {},
   "outputs": [],
   "source": []
  },
  {
   "cell_type": "code",
   "execution_count": null,
   "id": "bbf92d3a-7161-4cc0-bf07-b55a5ef07062",
   "metadata": {},
   "outputs": [],
   "source": [
    "no_breaks = df[pd.isnull(df['first_break'])]\n",
    "breaks = df[~pd.isnull(df['first_break'])]"
   ]
  },
  {
   "cell_type": "code",
   "execution_count": null,
   "id": "e83799d1-1616-467c-b09e-3488f9ec56ed",
   "metadata": {},
   "outputs": [],
   "source": [
    "TEST_N = int(np.round(no_breaks.shape[0] * TRAIN_SIZE))\n",
    "\n",
    "no_breaks_facility_ids = no_breaks['FACILITYID'].to_list()\n",
    "#setting random state\n",
    "random.Random(42).shuffle(no_breaks_facility_ids)\n",
    "\n",
    "train_no_breaks_facility_ids = no_breaks_facility_ids[:TEST_N]\n",
    "test_no_breaks_facility_ids = no_breaks_facility_ids[TEST_N:]"
   ]
  },
  {
   "cell_type": "code",
   "execution_count": null,
   "id": "97a4cf98-6b00-4fb6-8229-4cc80ffb423b",
   "metadata": {},
   "outputs": [],
   "source": [
    "TEST_N = int(np.round(breaks.shape[0] * TRAIN_SIZE))\n",
    "\n",
    "breaks_facility_ids = breaks['FACILITYID'].to_list()\n",
    "#setting random state\n",
    "random.Random(42).shuffle(breaks_facility_ids)\n",
    "\n",
    "train_breaks_facility_ids = breaks_facility_ids[:TEST_N]\n",
    "test_breaks_facility_ids = breaks_facility_ids[TEST_N:]"
   ]
  },
  {
   "cell_type": "markdown",
   "id": "975dc57d-5aa3-4e22-a621-96d0179ffdfa",
   "metadata": {},
   "source": [
    "<h3>Train Set</h3>"
   ]
  },
  {
   "cell_type": "code",
   "execution_count": null,
   "id": "b32b467b-6e78-4138-bacb-3635f4591e9d",
   "metadata": {},
   "outputs": [],
   "source": [
    "breaks_train = breaks[breaks['first_break'].isin(train_breaks_facility_ids)]\n",
    "no_breaks_train = df[df['FACILITYID'].isin(train_no_breaks_facility_ids)]\n",
    "train = pd.concat([breaks_train, no_breaks_train])"
   ]
  },
  {
   "cell_type": "code",
   "execution_count": null,
   "id": "626005ab-4267-452c-9c73-44899c2164b1",
   "metadata": {},
   "outputs": [],
   "source": [
    "s = train['all_breaks'].apply(prune_breaks)"
   ]
  },
  {
   "cell_type": "code",
   "execution_count": null,
   "id": "1c8dae7a-f526-4866-970e-36782c00fcb7",
   "metadata": {},
   "outputs": [],
   "source": [
    "train['all_breaks'] = train['all_breaks'].astype(str).apply(lambda s: s.split(\",\"))\n",
    "train['all_breaks'] = train['all_breaks'].apply(lambda s: [t for t in s if pd.to_datetime(t) <= train_test_cutoff])\n",
    "train['all_breaks'] = train['all_breaks'].apply(lambda s: \",\".join(s))"
   ]
  },
  {
   "cell_type": "markdown",
   "id": "056c87e9-2a98-4e2d-a68b-47488b41f983",
   "metadata": {},
   "source": [
    "<h3>Test & Validation Set</h3>"
   ]
  },
  {
   "cell_type": "code",
   "execution_count": null,
   "id": "e0218704-482c-4a42-90a3-a0ba1a743d3a",
   "metadata": {},
   "outputs": [],
   "source": [
    "breaks_test = breaks[breaks['first_break'].isin(test_breaks_facility_ids)]\n",
    "no_breaks_test = df[df['FACILITYID'].isin(test_no_breaks_facility_ids)]\n",
    "test = pd.concat([breaks_test, no_breaks_test])"
   ]
  },
  {
   "cell_type": "code",
   "execution_count": null,
   "id": "2370ec6c-59cb-46ff-83c5-764b68554a8c",
   "metadata": {},
   "outputs": [],
   "source": [
    "#how much of the test set we want to use for validation\n",
    "VALIDATION_SIZE = 0.4\n",
    "VALIDATION_N = int(np.round(test.shape[0] * VALIDATION_SIZE))"
   ]
  },
  {
   "cell_type": "code",
   "execution_count": null,
   "id": "b3f67e2b-9638-4dcd-b619-c05df0108709",
   "metadata": {},
   "outputs": [],
   "source": [
    "val = test[:VALIDATION_N]\n",
    "test = test[VALIDATION_N:]"
   ]
  },
  {
   "cell_type": "markdown",
   "id": "d27379c4-55a7-4232-bd30-55eb689f7266",
   "metadata": {},
   "source": [
    "<h2>Save to files</h2>"
   ]
  },
  {
   "cell_type": "code",
   "execution_count": null,
   "id": "7669f9f8-035b-4711-b409-163bd13f0bd3",
   "metadata": {},
   "outputs": [],
   "source": [
    "train.to_csv(\"../data/transformed/watermain_breaks_train.csv\", index = False)"
   ]
  },
  {
   "cell_type": "code",
   "execution_count": null,
   "id": "55f6916f-320b-4b49-bb0f-1265bd94bbfc",
   "metadata": {},
   "outputs": [],
   "source": [
    "test.to_csv(\"../data/transformed/watermain_breaks_test.csv\", index = False)"
   ]
  },
  {
   "cell_type": "code",
   "execution_count": null,
   "id": "878d48ce-394d-472d-bcf2-b17d7e848b92",
   "metadata": {},
   "outputs": [],
   "source": [
    "val.to_csv(\"../data/transformed/watermain_breaks_validation.csv\", index = False)"
   ]
  },
  {
   "cell_type": "code",
   "execution_count": null,
   "id": "9b9c34b5-2ad4-419c-bd75-4f9e684314c3",
   "metadata": {},
   "outputs": [],
   "source": []
  }
 ],
 "metadata": {
  "kernelspec": {
   "display_name": "Python 3 (ipykernel)",
   "language": "python",
   "name": "python3"
  },
  "language_info": {
   "codemirror_mode": {
    "name": "ipython",
    "version": 3
   },
   "file_extension": ".py",
   "mimetype": "text/x-python",
   "name": "python",
   "nbconvert_exporter": "python",
   "pygments_lexer": "ipython3",
   "version": "3.11.6"
  }
 },
 "nbformat": 4,
 "nbformat_minor": 5
}
