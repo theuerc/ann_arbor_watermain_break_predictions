{
 "cells": [
  {
   "cell_type": "markdown",
   "id": "c8fc32ae-be85-417f-992b-5cf694f3db33",
   "metadata": {},
   "source": [
    "<h1>Split time series data</h1>"
   ]
  },
  {
   "cell_type": "code",
   "execution_count": 1,
   "id": "45845b6c-8b01-4f82-ba69-d1a7588fbb79",
   "metadata": {},
   "outputs": [],
   "source": [
    "import os \n",
    "import random\n",
    "import numpy as np \n",
    "import pandas as pd"
   ]
  },
  {
   "cell_type": "code",
   "execution_count": 2,
   "id": "eeeab2b6-f3af-4e05-94df-1e1b0d609521",
   "metadata": {},
   "outputs": [],
   "source": [
    "pd.options.mode.chained_assignment = None"
   ]
  },
  {
   "cell_type": "code",
   "execution_count": 3,
   "id": "cb9cf8f1-28da-4201-ae59-1eb688e7c627",
   "metadata": {},
   "outputs": [],
   "source": [
    "df = pd.read_csv(\"../data/transformed/watermain_breaks_dataset.csv\")"
   ]
  },
  {
   "cell_type": "code",
   "execution_count": 4,
   "id": "a57f2f1a-50a4-4db8-9805-be650adbff13",
   "metadata": {},
   "outputs": [],
   "source": [
    "df['first_break'] = pd.to_datetime(df['first_break'])\n",
    "df['most_recent_break'] = pd.to_datetime(df['most_recent_break'])"
   ]
  },
  {
   "cell_type": "markdown",
   "id": "ef1f5712-34d3-47ac-b4ef-a8090d91c236",
   "metadata": {},
   "source": [
    "See current date range"
   ]
  },
  {
   "cell_type": "code",
   "execution_count": 5,
   "id": "3b51dd5b-adf4-4dd2-975c-13eab53bbdbe",
   "metadata": {},
   "outputs": [
    {
     "data": {
      "text/plain": [
       "max   2023-08-07 14:04:00\n",
       "min   2013-01-02 08:49:00\n",
       "Name: first_break, dtype: datetime64[ns]"
      ]
     },
     "execution_count": 5,
     "metadata": {},
     "output_type": "execute_result"
    }
   ],
   "source": [
    "df['first_break'].agg(['max', 'min'])"
   ]
  },
  {
   "cell_type": "code",
   "execution_count": 6,
   "id": "f65415aa-07ad-43bb-a776-21babbcf38b8",
   "metadata": {},
   "outputs": [
    {
     "data": {
      "text/plain": [
       "max   2023-08-07 14:04:00\n",
       "min   2013-01-02 08:49:00\n",
       "Name: most_recent_break, dtype: datetime64[ns]"
      ]
     },
     "execution_count": 6,
     "metadata": {},
     "output_type": "execute_result"
    }
   ],
   "source": [
    "df['most_recent_break'].agg(['max', 'min'])"
   ]
  },
  {
   "cell_type": "markdown",
   "id": "bdd34d39-2fd6-4b62-8af5-51168eb131ac",
   "metadata": {},
   "source": [
    "<h2>Split Data</h2>\n",
    "\n",
    "Using January 1st, 2019 as cutoff"
   ]
  },
  {
   "cell_type": "code",
   "execution_count": 7,
   "id": "81fc2e17-b1f6-4f40-b17b-a5b8f5e110d8",
   "metadata": {},
   "outputs": [],
   "source": [
    "#how much of the total data we want in train set\n",
    "TRAIN_SIZE = 0.85\n",
    "VALIDATION_SIZE = 0.15\n",
    "TRAIN_TEST_CUTOFF = pd.to_datetime('2019-01-01')"
   ]
  },
  {
   "cell_type": "code",
   "execution_count": 8,
   "id": "bc4046f7-1237-4b98-9174-7f7864e428e6",
   "metadata": {},
   "outputs": [],
   "source": [
    "install_after_cutoff = df[pd.to_datetime(df['INSTALLDAT']) > TRAIN_TEST_CUTOFF]\n",
    "train_eligible = df[pd.to_datetime(df['INSTALLDAT']) <= TRAIN_TEST_CUTOFF]"
   ]
  },
  {
   "cell_type": "code",
   "execution_count": 9,
   "id": "9a698199-9393-43d0-b4d8-25679e3b4898",
   "metadata": {},
   "outputs": [],
   "source": [
    "TRAIN_N = int(np.round(train_eligible.shape[0] * TRAIN_SIZE))"
   ]
  },
  {
   "cell_type": "code",
   "execution_count": 10,
   "id": "bdae89c1-8edc-48e3-b228-e6b751d8fe30",
   "metadata": {},
   "outputs": [],
   "source": [
    "facility_ids = train_eligible['FACILITYID'].to_list()\n",
    "\n",
    "random.Random(42).shuffle(facility_ids)\n",
    "\n",
    "train_facility_ids = facility_ids[:TRAIN_N]\n",
    "test_facility_ids = facility_ids[TRAIN_N:]"
   ]
  },
  {
   "cell_type": "code",
   "execution_count": 11,
   "id": "45ecd4bd-b659-4a6a-b86c-3f37ca6dd0ad",
   "metadata": {},
   "outputs": [],
   "source": [
    "test = df[df['FACILITYID'].isin(test_facility_ids)]\n",
    "train = df[df['FACILITYID'].isin(train_facility_ids)]"
   ]
  },
  {
   "cell_type": "code",
   "execution_count": 12,
   "id": "6afddaa6-2ec3-46d8-8cd4-94be8b45ea12",
   "metadata": {},
   "outputs": [],
   "source": [
    "# add pipes installed after cutoff to test \n",
    "test = pd.concat([install_after_cutoff, test])"
   ]
  },
  {
   "cell_type": "code",
   "execution_count": 13,
   "id": "33cd35e1-5339-423d-a9b2-c1ab80b5210e",
   "metadata": {},
   "outputs": [],
   "source": [
    "VAL_N = int(np.round(test.shape[0] * VALIDATION_SIZE))\n",
    "test_facility_ids = test['FACILITYID'].to_list()\n",
    "random.Random(42).shuffle(test_facility_ids)\n",
    "\n",
    "val_facility_ids = test_facility_ids[:VAL_N]"
   ]
  },
  {
   "cell_type": "code",
   "execution_count": 14,
   "id": "c4d0e73f-afcf-49ee-aaf2-59458d7b028a",
   "metadata": {},
   "outputs": [],
   "source": [
    "val = test[test['FACILITYID'].isin(val_facility_ids)]\n",
    "test = test[~test['FACILITYID'].isin(val_facility_ids)]"
   ]
  },
  {
   "cell_type": "markdown",
   "id": "b7c88b1c-e593-4a2f-b698-bc273244c9fe",
   "metadata": {},
   "source": [
    "<h3>Process Dates</h3>"
   ]
  },
  {
   "cell_type": "code",
   "execution_count": 15,
   "id": "b3bda031-6bc8-4510-91a1-bef2610b7f3d",
   "metadata": {},
   "outputs": [],
   "source": [
    "train['all_breaks'] = train['all_breaks'].apply(str)"
   ]
  },
  {
   "cell_type": "code",
   "execution_count": 16,
   "id": "bcd465e5-07d1-4ed9-98ba-9bd0e474427c",
   "metadata": {},
   "outputs": [],
   "source": [
    "train['all_breaks'] = train['all_breaks'].apply(str)\n",
    "train['all_breaks'] = train['all_breaks'].apply(lambda s: \",\".join([t for t in s.split(\",\") if pd.to_datetime(t) <= TRAIN_TEST_CUTOFF]))"
   ]
  },
  {
   "cell_type": "code",
   "execution_count": 17,
   "id": "d221336f-5bcc-4e0e-a41f-3d1fb637c432",
   "metadata": {},
   "outputs": [
    {
     "data": {
      "text/plain": [
       "((20826, 14), (681, 14), (3856, 14))"
      ]
     },
     "execution_count": 17,
     "metadata": {},
     "output_type": "execute_result"
    }
   ],
   "source": [
    "train.shape, val.shape, test.shape"
   ]
  },
  {
   "cell_type": "markdown",
   "id": "d27379c4-55a7-4232-bd30-55eb689f7266",
   "metadata": {},
   "source": [
    "<h2>Save to files</h2>"
   ]
  },
  {
   "cell_type": "code",
   "execution_count": 18,
   "id": "7669f9f8-035b-4711-b409-163bd13f0bd3",
   "metadata": {},
   "outputs": [],
   "source": [
    "train.to_csv(\"../data/transformed/watermain_breaks_train.csv\", index = False)"
   ]
  },
  {
   "cell_type": "code",
   "execution_count": 19,
   "id": "55f6916f-320b-4b49-bb0f-1265bd94bbfc",
   "metadata": {},
   "outputs": [],
   "source": [
    "test.to_csv(\"../data/transformed/watermain_breaks_test.csv\", index = False)"
   ]
  },
  {
   "cell_type": "code",
   "execution_count": 20,
   "id": "878d48ce-394d-472d-bcf2-b17d7e848b92",
   "metadata": {},
   "outputs": [],
   "source": [
    "val.to_csv(\"../data/transformed/watermain_breaks_validation.csv\", index = False)"
   ]
  },
  {
   "cell_type": "code",
   "execution_count": 21,
   "id": "9b9c34b5-2ad4-419c-bd75-4f9e684314c3",
   "metadata": {},
   "outputs": [
    {
     "data": {
      "text/html": [
       "<div>\n",
       "<style scoped>\n",
       "    .dataframe tbody tr th:only-of-type {\n",
       "        vertical-align: middle;\n",
       "    }\n",
       "\n",
       "    .dataframe tbody tr th {\n",
       "        vertical-align: top;\n",
       "    }\n",
       "\n",
       "    .dataframe thead th {\n",
       "        text-align: right;\n",
       "    }\n",
       "</style>\n",
       "<table border=\"1\" class=\"dataframe\">\n",
       "  <thead>\n",
       "    <tr style=\"text-align: right;\">\n",
       "      <th></th>\n",
       "      <th>ENABLED</th>\n",
       "      <th>FACILITYID</th>\n",
       "      <th>LOCATION</th>\n",
       "      <th>INSTALLDAT</th>\n",
       "      <th>SUBTYPE</th>\n",
       "      <th>MATERIAL</th>\n",
       "      <th>LENGTH</th>\n",
       "      <th>DIAMETER</th>\n",
       "      <th>STATUS</th>\n",
       "      <th>PressureSy</th>\n",
       "      <th>break_status</th>\n",
       "      <th>all_breaks</th>\n",
       "      <th>first_break</th>\n",
       "      <th>most_recent_break</th>\n",
       "    </tr>\n",
       "  </thead>\n",
       "  <tbody>\n",
       "    <tr>\n",
       "      <th>862</th>\n",
       "      <td>1</td>\n",
       "      <td>00-071340</td>\n",
       "      <td>Xlot 2625 Jackson Ave</td>\n",
       "      <td>2019-01-01</td>\n",
       "      <td>1</td>\n",
       "      <td>DI</td>\n",
       "      <td>18.0</td>\n",
       "      <td>12.0</td>\n",
       "      <td>IS</td>\n",
       "      <td>WH</td>\n",
       "      <td>has never broken</td>\n",
       "      <td></td>\n",
       "      <td>NaT</td>\n",
       "      <td>NaT</td>\n",
       "    </tr>\n",
       "    <tr>\n",
       "      <th>863</th>\n",
       "      <td>1</td>\n",
       "      <td>00-071770</td>\n",
       "      <td>Hayward St</td>\n",
       "      <td>2018-12-01</td>\n",
       "      <td>1</td>\n",
       "      <td>DI</td>\n",
       "      <td>11.0</td>\n",
       "      <td>12.0</td>\n",
       "      <td>IS</td>\n",
       "      <td>GED</td>\n",
       "      <td>has never broken</td>\n",
       "      <td></td>\n",
       "      <td>NaT</td>\n",
       "      <td>NaT</td>\n",
       "    </tr>\n",
       "    <tr>\n",
       "      <th>864</th>\n",
       "      <td>1</td>\n",
       "      <td>00-071764</td>\n",
       "      <td>2505 Hayward St</td>\n",
       "      <td>2018-12-01</td>\n",
       "      <td>3</td>\n",
       "      <td>DI</td>\n",
       "      <td>3.0</td>\n",
       "      <td>8.0</td>\n",
       "      <td>IS</td>\n",
       "      <td>GED</td>\n",
       "      <td>has never broken</td>\n",
       "      <td></td>\n",
       "      <td>NaT</td>\n",
       "      <td>NaT</td>\n",
       "    </tr>\n",
       "    <tr>\n",
       "      <th>865</th>\n",
       "      <td>1</td>\n",
       "      <td>00-071761</td>\n",
       "      <td>Hayward St</td>\n",
       "      <td>2018-12-01</td>\n",
       "      <td>1</td>\n",
       "      <td>DI</td>\n",
       "      <td>6.0</td>\n",
       "      <td>12.0</td>\n",
       "      <td>IS</td>\n",
       "      <td>GED</td>\n",
       "      <td>has never broken</td>\n",
       "      <td></td>\n",
       "      <td>NaT</td>\n",
       "      <td>NaT</td>\n",
       "    </tr>\n",
       "    <tr>\n",
       "      <th>866</th>\n",
       "      <td>1</td>\n",
       "      <td>00-071759</td>\n",
       "      <td>Hayward St</td>\n",
       "      <td>2018-12-01</td>\n",
       "      <td>1</td>\n",
       "      <td>DI</td>\n",
       "      <td>1.0</td>\n",
       "      <td>8.0</td>\n",
       "      <td>IS</td>\n",
       "      <td>GED</td>\n",
       "      <td>has never broken</td>\n",
       "      <td></td>\n",
       "      <td>NaT</td>\n",
       "      <td>NaT</td>\n",
       "    </tr>\n",
       "    <tr>\n",
       "      <th>...</th>\n",
       "      <td>...</td>\n",
       "      <td>...</td>\n",
       "      <td>...</td>\n",
       "      <td>...</td>\n",
       "      <td>...</td>\n",
       "      <td>...</td>\n",
       "      <td>...</td>\n",
       "      <td>...</td>\n",
       "      <td>...</td>\n",
       "      <td>...</td>\n",
       "      <td>...</td>\n",
       "      <td>...</td>\n",
       "      <td>...</td>\n",
       "      <td>...</td>\n",
       "    </tr>\n",
       "    <tr>\n",
       "      <th>27474</th>\n",
       "      <td>1</td>\n",
       "      <td>00-071704</td>\n",
       "      <td>NaN</td>\n",
       "      <td>1950-01-01</td>\n",
       "      <td>1</td>\n",
       "      <td>CI</td>\n",
       "      <td>71.0</td>\n",
       "      <td>6.0</td>\n",
       "      <td>IS</td>\n",
       "      <td>SHE</td>\n",
       "      <td>has broken</td>\n",
       "      <td>2013-02-01 15:02:00</td>\n",
       "      <td>2013-02-01 15:02:00</td>\n",
       "      <td>2013-02-01 15:02:00</td>\n",
       "    </tr>\n",
       "    <tr>\n",
       "      <th>27475</th>\n",
       "      <td>1</td>\n",
       "      <td>00-072287</td>\n",
       "      <td>Ashley St</td>\n",
       "      <td>2009-12-08</td>\n",
       "      <td>1</td>\n",
       "      <td>DI</td>\n",
       "      <td>19.0</td>\n",
       "      <td>10.0</td>\n",
       "      <td>IS</td>\n",
       "      <td>GRA</td>\n",
       "      <td>has broken</td>\n",
       "      <td></td>\n",
       "      <td>2021-02-05 11:20:00</td>\n",
       "      <td>2021-02-05 11:20:00</td>\n",
       "    </tr>\n",
       "    <tr>\n",
       "      <th>27476</th>\n",
       "      <td>1</td>\n",
       "      <td>00-073475</td>\n",
       "      <td>Briarcliff St</td>\n",
       "      <td>1962-03-31</td>\n",
       "      <td>1</td>\n",
       "      <td>CI</td>\n",
       "      <td>43.0</td>\n",
       "      <td>6.0</td>\n",
       "      <td>IS</td>\n",
       "      <td>NEH</td>\n",
       "      <td>has broken</td>\n",
       "      <td>2018-12-11 06:06:00</td>\n",
       "      <td>2018-12-11 06:06:00</td>\n",
       "      <td>2018-12-11 06:06:00</td>\n",
       "    </tr>\n",
       "    <tr>\n",
       "      <th>27477</th>\n",
       "      <td>1</td>\n",
       "      <td>00-073478</td>\n",
       "      <td>Pomona Rd</td>\n",
       "      <td>1960-01-01</td>\n",
       "      <td>1</td>\n",
       "      <td>CI</td>\n",
       "      <td>0.0</td>\n",
       "      <td>6.0</td>\n",
       "      <td>IS</td>\n",
       "      <td>WH</td>\n",
       "      <td>has broken</td>\n",
       "      <td></td>\n",
       "      <td>2021-11-20 06:30:00</td>\n",
       "      <td>2021-11-20 06:30:00</td>\n",
       "    </tr>\n",
       "    <tr>\n",
       "      <th>27478</th>\n",
       "      <td>1</td>\n",
       "      <td>00-76063</td>\n",
       "      <td>Prairie St</td>\n",
       "      <td>1961-04-04</td>\n",
       "      <td>1</td>\n",
       "      <td>CI</td>\n",
       "      <td>279.0</td>\n",
       "      <td>8.0</td>\n",
       "      <td>IS</td>\n",
       "      <td>NEH</td>\n",
       "      <td>has broken</td>\n",
       "      <td></td>\n",
       "      <td>2023-02-23 12:00:00</td>\n",
       "      <td>2023-02-23 12:00:00</td>\n",
       "    </tr>\n",
       "  </tbody>\n",
       "</table>\n",
       "<p>20826 rows × 14 columns</p>\n",
       "</div>"
      ],
      "text/plain": [
       "       ENABLED FACILITYID               LOCATION  INSTALLDAT  SUBTYPE  \\\n",
       "862          1  00-071340  Xlot 2625 Jackson Ave  2019-01-01        1   \n",
       "863          1  00-071770             Hayward St  2018-12-01        1   \n",
       "864          1  00-071764        2505 Hayward St  2018-12-01        3   \n",
       "865          1  00-071761             Hayward St  2018-12-01        1   \n",
       "866          1  00-071759             Hayward St  2018-12-01        1   \n",
       "...        ...        ...                    ...         ...      ...   \n",
       "27474        1  00-071704                    NaN  1950-01-01        1   \n",
       "27475        1  00-072287              Ashley St  2009-12-08        1   \n",
       "27476        1  00-073475          Briarcliff St  1962-03-31        1   \n",
       "27477        1  00-073478              Pomona Rd  1960-01-01        1   \n",
       "27478        1   00-76063             Prairie St  1961-04-04        1   \n",
       "\n",
       "      MATERIAL  LENGTH  DIAMETER STATUS PressureSy      break_status  \\\n",
       "862         DI    18.0      12.0     IS         WH  has never broken   \n",
       "863         DI    11.0      12.0     IS        GED  has never broken   \n",
       "864         DI     3.0       8.0     IS        GED  has never broken   \n",
       "865         DI     6.0      12.0     IS        GED  has never broken   \n",
       "866         DI     1.0       8.0     IS        GED  has never broken   \n",
       "...        ...     ...       ...    ...        ...               ...   \n",
       "27474       CI    71.0       6.0     IS        SHE        has broken   \n",
       "27475       DI    19.0      10.0     IS        GRA        has broken   \n",
       "27476       CI    43.0       6.0     IS        NEH        has broken   \n",
       "27477       CI     0.0       6.0     IS         WH        has broken   \n",
       "27478       CI   279.0       8.0     IS        NEH        has broken   \n",
       "\n",
       "                all_breaks         first_break   most_recent_break  \n",
       "862                                        NaT                 NaT  \n",
       "863                                        NaT                 NaT  \n",
       "864                                        NaT                 NaT  \n",
       "865                                        NaT                 NaT  \n",
       "866                                        NaT                 NaT  \n",
       "...                    ...                 ...                 ...  \n",
       "27474  2013-02-01 15:02:00 2013-02-01 15:02:00 2013-02-01 15:02:00  \n",
       "27475                      2021-02-05 11:20:00 2021-02-05 11:20:00  \n",
       "27476  2018-12-11 06:06:00 2018-12-11 06:06:00 2018-12-11 06:06:00  \n",
       "27477                      2021-11-20 06:30:00 2021-11-20 06:30:00  \n",
       "27478                      2023-02-23 12:00:00 2023-02-23 12:00:00  \n",
       "\n",
       "[20826 rows x 14 columns]"
      ]
     },
     "execution_count": 21,
     "metadata": {},
     "output_type": "execute_result"
    }
   ],
   "source": [
    "train"
   ]
  },
  {
   "cell_type": "code",
   "execution_count": null,
   "id": "4eec4aca-e709-40bb-9be8-ee0a80ce60e9",
   "metadata": {},
   "outputs": [],
   "source": []
  }
 ],
 "metadata": {
  "kernelspec": {
   "display_name": "Python 3 (ipykernel)",
   "language": "python",
   "name": "python3"
  },
  "language_info": {
   "codemirror_mode": {
    "name": "ipython",
    "version": 3
   },
   "file_extension": ".py",
   "mimetype": "text/x-python",
   "name": "python",
   "nbconvert_exporter": "python",
   "pygments_lexer": "ipython3",
   "version": "3.11.6"
  }
 },
 "nbformat": 4,
 "nbformat_minor": 5
}
