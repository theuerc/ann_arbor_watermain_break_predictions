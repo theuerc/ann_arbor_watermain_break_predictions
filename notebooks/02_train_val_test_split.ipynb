{
 "cells": [
  {
   "cell_type": "markdown",
   "id": "c8fc32ae-be85-417f-992b-5cf694f3db33",
   "metadata": {},
   "source": [
    "<h1>Split time series data</h1>"
   ]
  },
  {
   "cell_type": "code",
   "execution_count": 1,
   "id": "45845b6c-8b01-4f82-ba69-d1a7588fbb79",
   "metadata": {},
   "outputs": [],
   "source": [
    "import os \n",
    "import random\n",
    "import numpy as np \n",
    "import pandas as pd"
   ]
  },
  {
   "cell_type": "code",
   "execution_count": 2,
   "id": "eeeab2b6-f3af-4e05-94df-1e1b0d609521",
   "metadata": {},
   "outputs": [],
   "source": [
    "pd.options.mode.chained_assignment = None"
   ]
  },
  {
   "cell_type": "code",
   "execution_count": 3,
   "id": "cb9cf8f1-28da-4201-ae59-1eb688e7c627",
   "metadata": {},
   "outputs": [],
   "source": [
    "df = pd.read_csv(\"../data/transformed/watermain_breaks_dataset.csv\")"
   ]
  },
  {
   "cell_type": "code",
   "execution_count": 4,
   "id": "a57f2f1a-50a4-4db8-9805-be650adbff13",
   "metadata": {},
   "outputs": [],
   "source": [
    "df['first_break'] = pd.to_datetime(df['first_break'])\n",
    "df['most_recent_break'] = pd.to_datetime(df['most_recent_break'])"
   ]
  },
  {
   "cell_type": "markdown",
   "id": "ef1f5712-34d3-47ac-b4ef-a8090d91c236",
   "metadata": {},
   "source": [
    "See current date range"
   ]
  },
  {
   "cell_type": "code",
   "execution_count": 5,
   "id": "3b51dd5b-adf4-4dd2-975c-13eab53bbdbe",
   "metadata": {},
   "outputs": [
    {
     "data": {
      "text/plain": [
       "max   2023-08-07 14:04:00\n",
       "min   2013-01-02 08:49:00\n",
       "Name: first_break, dtype: datetime64[ns]"
      ]
     },
     "execution_count": 5,
     "metadata": {},
     "output_type": "execute_result"
    }
   ],
   "source": [
    "df['first_break'].agg(['max', 'min'])"
   ]
  },
  {
   "cell_type": "code",
   "execution_count": 6,
   "id": "f65415aa-07ad-43bb-a776-21babbcf38b8",
   "metadata": {},
   "outputs": [
    {
     "data": {
      "text/plain": [
       "max   2023-08-07 14:04:00\n",
       "min   2013-01-02 08:49:00\n",
       "Name: most_recent_break, dtype: datetime64[ns]"
      ]
     },
     "execution_count": 6,
     "metadata": {},
     "output_type": "execute_result"
    }
   ],
   "source": [
    "df['most_recent_break'].agg(['max', 'min'])"
   ]
  },
  {
   "cell_type": "markdown",
   "id": "bdd34d39-2fd6-4b62-8af5-51168eb131ac",
   "metadata": {},
   "source": [
    "<h2>Split Data</h2>\n",
    "\n",
    "Using January 1st, 2019 as cutoff"
   ]
  },
  {
   "cell_type": "code",
   "execution_count": 7,
   "id": "9a698199-9393-43d0-b4d8-25679e3b4898",
   "metadata": {},
   "outputs": [],
   "source": [
    "#how much of the total data we want in train set\n",
    "TRAIN_SIZE = 0.7\n",
    "VALIDATION_SIZE = 0.4\n",
    "TRAIN_TEST_CUTOFF = pd.to_datetime('2019-01-01')\n",
    "\n",
    "TRAIN_N = int(np.round(df.shape[0] * TRAIN_SIZE))"
   ]
  },
  {
   "cell_type": "code",
   "execution_count": 8,
   "id": "bdae89c1-8edc-48e3-b228-e6b751d8fe30",
   "metadata": {},
   "outputs": [],
   "source": [
    "facility_ids = df['FACILITYID'].to_list()\n",
    "\n",
    "random.Random(42).shuffle(facility_ids)\n",
    "\n",
    "train_facility_ids = facility_ids[:TRAIN_N]\n",
    "test_facility_ids = facility_ids[TRAIN_N:]"
   ]
  },
  {
   "cell_type": "code",
   "execution_count": 9,
   "id": "45ecd4bd-b659-4a6a-b86c-3f37ca6dd0ad",
   "metadata": {},
   "outputs": [],
   "source": [
    "test = df[df['FACILITYID'].isin(test_facility_ids)]\n",
    "train = df[df['FACILITYID'].isin(train_facility_ids)]"
   ]
  },
  {
   "cell_type": "code",
   "execution_count": 10,
   "id": "33cd35e1-5339-423d-a9b2-c1ab80b5210e",
   "metadata": {},
   "outputs": [],
   "source": [
    "VAL_N = int(np.round(test.shape[0] * VALIDATION_SIZE))\n",
    "test_facility_ids = test['FACILITYID'].to_list()\n",
    "random.Random(42).shuffle(test_facility_ids)\n",
    "\n",
    "val_facility_ids = test_facility_ids[:VAL_N]"
   ]
  },
  {
   "cell_type": "code",
   "execution_count": 11,
   "id": "c4d0e73f-afcf-49ee-aaf2-59458d7b028a",
   "metadata": {},
   "outputs": [],
   "source": [
    "val = test[test['FACILITYID'].isin(val_facility_ids)]\n",
    "test = test[~test['FACILITYID'].isin(val_facility_ids)]"
   ]
  },
  {
   "cell_type": "markdown",
   "id": "b7c88b1c-e593-4a2f-b698-bc273244c9fe",
   "metadata": {},
   "source": [
    "<h3>Process Dates</h3>"
   ]
  },
  {
   "cell_type": "code",
   "execution_count": 12,
   "id": "bcd465e5-07d1-4ed9-98ba-9bd0e474427c",
   "metadata": {},
   "outputs": [],
   "source": [
    "train['all_breaks'] = train['all_breaks'].apply(str)\n",
    "train['all_breaks'] = train['all_breaks'].apply(lambda s: [t for t in s.split(\",\") if pd.to_datetime(t) <= TRAIN_TEST_CUTOFF])"
   ]
  },
  {
   "cell_type": "code",
   "execution_count": 13,
   "id": "d221336f-5bcc-4e0e-a41f-3d1fb637c432",
   "metadata": {},
   "outputs": [
    {
     "data": {
      "text/plain": [
       "((19235, 14), (3298, 14), (4946, 14))"
      ]
     },
     "execution_count": 13,
     "metadata": {},
     "output_type": "execute_result"
    }
   ],
   "source": [
    "train.shape, val.shape, test.shape"
   ]
  },
  {
   "cell_type": "markdown",
   "id": "d27379c4-55a7-4232-bd30-55eb689f7266",
   "metadata": {},
   "source": [
    "<h2>Save to files</h2>"
   ]
  },
  {
   "cell_type": "code",
   "execution_count": 14,
   "id": "7669f9f8-035b-4711-b409-163bd13f0bd3",
   "metadata": {},
   "outputs": [],
   "source": [
    "train.to_csv(\"../data/transformed/watermain_breaks_train.csv\", index = False)"
   ]
  },
  {
   "cell_type": "code",
   "execution_count": 15,
   "id": "55f6916f-320b-4b49-bb0f-1265bd94bbfc",
   "metadata": {},
   "outputs": [],
   "source": [
    "test.to_csv(\"../data/transformed/watermain_breaks_test.csv\", index = False)"
   ]
  },
  {
   "cell_type": "code",
   "execution_count": 16,
   "id": "878d48ce-394d-472d-bcf2-b17d7e848b92",
   "metadata": {},
   "outputs": [],
   "source": [
    "val.to_csv(\"../data/transformed/watermain_breaks_validation.csv\", index = False)"
   ]
  },
  {
   "cell_type": "code",
   "execution_count": null,
   "id": "9b9c34b5-2ad4-419c-bd75-4f9e684314c3",
   "metadata": {},
   "outputs": [],
   "source": []
  }
 ],
 "metadata": {
  "kernelspec": {
   "display_name": "Python 3 (ipykernel)",
   "language": "python",
   "name": "python3"
  },
  "language_info": {
   "codemirror_mode": {
    "name": "ipython",
    "version": 3
   },
   "file_extension": ".py",
   "mimetype": "text/x-python",
   "name": "python",
   "nbconvert_exporter": "python",
   "pygments_lexer": "ipython3",
   "version": "3.11.6"
  }
 },
 "nbformat": 4,
 "nbformat_minor": 5
}
