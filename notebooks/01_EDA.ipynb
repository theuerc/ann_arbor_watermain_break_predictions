{
 "cells": [
  {
   "cell_type": "code",
   "execution_count": 1,
   "metadata": {},
   "outputs": [],
   "source": [
    "import pandas as pd\n",
    "import usaddress\n",
    "import os\n",
    "import numpy as np"
   ]
  },
  {
   "cell_type": "markdown",
   "metadata": {},
   "source": [
    "<h2>Load all watermains</h2>"
   ]
  },
  {
   "cell_type": "code",
   "execution_count": 2,
   "metadata": {},
   "outputs": [],
   "source": [
    "all_mains = pd.read_csv('../data/raw/All_Watermains_Attributes.csv', encoding='latin-1').drop_duplicates()"
   ]
  },
  {
   "cell_type": "code",
   "execution_count": 3,
   "metadata": {},
   "outputs": [],
   "source": [
    "all_mains['INSTALLDAT'] = pd.to_datetime(all_mains['INSTALLDAT'], format='mixed')"
   ]
  },
  {
   "cell_type": "markdown",
   "metadata": {},
   "source": [
    "<h2>Load soil ph</h2>"
   ]
  },
  {
   "cell_type": "code",
   "execution_count": 4,
   "metadata": {},
   "outputs": [],
   "source": [
    "soil_ph = pd.read_csv(\"../data/raw/Watermain_Attributes_Soil_Ph.csv\")"
   ]
  },
  {
   "cell_type": "code",
   "execution_count": 5,
   "metadata": {},
   "outputs": [],
   "source": [
    "soil_ph['INSTALLDAT'] = pd.to_datetime(soil_ph['INSTALLDAT'], format='mixed')"
   ]
  },
  {
   "cell_type": "markdown",
   "metadata": {},
   "source": [
    "<h2>Load broken mains reports</h2>"
   ]
  },
  {
   "cell_type": "code",
   "execution_count": 6,
   "metadata": {},
   "outputs": [],
   "source": [
    "reports = pd.read_csv(\"../data/raw/Watermain_Breaks_Reporting.csv\")"
   ]
  },
  {
   "cell_type": "markdown",
   "metadata": {},
   "source": [
    "<h2>Merge datsets</h2>"
   ]
  },
  {
   "cell_type": "code",
   "execution_count": 7,
   "metadata": {},
   "outputs": [],
   "source": [
    "#'INSTALLDAT' & 'LOCATION' also common keys, but seem to loose too many instances\n",
    "all_mains_broken = soil_ph[['FACILITYID', 'WORKORDERI']].merge(all_mains, on = ['FACILITYID'])"
   ]
  },
  {
   "cell_type": "code",
   "execution_count": 8,
   "metadata": {},
   "outputs": [],
   "source": [
    "all_mains_broken = all_mains_broken.merge(reports, left_on = 'WORKORDERI', right_on = 'Work Order ID')"
   ]
  },
  {
   "cell_type": "markdown",
   "metadata": {},
   "source": [
    "Add a flag to the all_mains dataframe for if a pipe has ever broken"
   ]
  },
  {
   "cell_type": "code",
   "execution_count": 9,
   "metadata": {},
   "outputs": [],
   "source": [
    "broken_facility_ids = all_mains_broken['FACILITYID'].to_list()"
   ]
  },
  {
   "cell_type": "code",
   "execution_count": 22,
   "metadata": {},
   "outputs": [],
   "source": [
    "all_mains['break_status'] = all_mains['FACILITYID'].apply(lambda s: np.where(s in broken_facility_ids, 'has broken', 'has never broken'))"
   ]
  },
  {
   "cell_type": "markdown",
   "metadata": {},
   "source": [
    "Get the dates of all the breaks"
   ]
  },
  {
   "cell_type": "code",
   "execution_count": 11,
   "metadata": {},
   "outputs": [],
   "source": [
    "all_mains_broken['Date Initiated'] = pd.to_datetime(all_mains_broken['Date Initiated'])\n",
    "break_dates_by_facility_id = all_mains_broken.groupby('FACILITYID')['Date Initiated'].apply(list).reset_index()\n",
    "break_dates_by_facility_id = break_dates_by_facility_id.rename(columns = {'Date Initiated': 'all_breaks'})"
   ]
  },
  {
   "cell_type": "code",
   "execution_count": 13,
   "metadata": {},
   "outputs": [],
   "source": [
    "first_and_last_break = all_mains_broken.groupby('FACILITYID')['Date Initiated'].agg(['min', 'max']).reset_index()\n",
    "first_and_last_break = first_and_last_break.rename(columns = {'min': 'first_break', 'max': 'most_recent_break'})"
   ]
  },
  {
   "cell_type": "markdown",
   "metadata": {},
   "source": [
    "Add date info to main dataframe"
   ]
  },
  {
   "cell_type": "code",
   "execution_count": 14,
   "metadata": {},
   "outputs": [],
   "source": [
    "all_mains_broken = all_mains_broken.merge(first_and_last_break, on = 'FACILITYID')\n",
    "all_mains_broken = all_mains_broken.merge(break_dates_by_facility_id, on = 'FACILITYID')"
   ]
  },
  {
   "cell_type": "markdown",
   "metadata": {},
   "source": [
    "Set up final dataframe"
   ]
  },
  {
   "cell_type": "code",
   "execution_count": 17,
   "metadata": {},
   "outputs": [],
   "source": [
    "cols_to_keep = list(all_mains.columns)\n",
    "cols_to_keep.extend(['all_breaks', 'first_break', 'most_recent_break'])"
   ]
  },
  {
   "cell_type": "code",
   "execution_count": 20,
   "metadata": {},
   "outputs": [],
   "source": [
    "all_mains_broken['break_status'] = 'has broken'\n",
    "all_mains_broken = all_mains_broken[cols_to_keep]"
   ]
  },
  {
   "cell_type": "code",
   "execution_count": 25,
   "metadata": {},
   "outputs": [],
   "source": [
    "never_broken = all_mains[all_mains['break_status'] == 'has never broken']"
   ]
  },
  {
   "cell_type": "code",
   "execution_count": 28,
   "metadata": {},
   "outputs": [],
   "source": [
    "df = pd.concat([never_broken, all_mains_broken])"
   ]
  },
  {
   "cell_type": "code",
   "execution_count": 29,
   "metadata": {},
   "outputs": [],
   "source": [
    "df.to_csv(\"../data/transformed/watermain_breaks_dataset.csv\", index = False)"
   ]
  },
  {
   "cell_type": "code",
   "execution_count": null,
   "metadata": {},
   "outputs": [],
   "source": []
  }
 ],
 "metadata": {
  "kernelspec": {
   "display_name": "Python 3 (ipykernel)",
   "language": "python",
   "name": "python3"
  },
  "language_info": {
   "codemirror_mode": {
    "name": "ipython",
    "version": 3
   },
   "file_extension": ".py",
   "mimetype": "text/x-python",
   "name": "python",
   "nbconvert_exporter": "python",
   "pygments_lexer": "ipython3",
   "version": "3.11.6"
  }
 },
 "nbformat": 4,
 "nbformat_minor": 4
}
