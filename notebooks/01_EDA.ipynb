{
 "cells": [
  {
   "cell_type": "code",
   "execution_count": 47,
   "metadata": {},
   "outputs": [],
   "source": [
    "import pandas as pd"
   ]
  },
  {
   "cell_type": "code",
   "execution_count": 109,
   "metadata": {},
   "outputs": [
    {
     "name": "stdout",
     "output_type": "stream",
     "text": [
      "<class 'pandas.core.frame.DataFrame'>\n",
      "Index: 855 entries, 0 to 875\n",
      "Data columns (total 9 columns):\n",
      " #   Column      Non-Null Count  Dtype         \n",
      "---  ------      --------------  -----         \n",
      " 0   FACILITYID  855 non-null    object        \n",
      " 1   LOCATION    855 non-null    object        \n",
      " 2   INSTALLDAT  847 non-null    datetime64[ns]\n",
      " 3   SUBTYPE     855 non-null    int64         \n",
      " 4   MATERIAL    855 non-null    object        \n",
      " 5   LENGTH      855 non-null    float64       \n",
      " 6   DIAMETER    855 non-null    float64       \n",
      " 7   STATUS      855 non-null    object        \n",
      " 8   PressureSy  855 non-null    object        \n",
      "dtypes: datetime64[ns](1), float64(2), int64(1), object(5)\n",
      "memory usage: 66.8+ KB\n"
     ]
    }
   ],
   "source": [
    "broken_mains = pd.read_csv('../data/raw/Watermain_Attributes_Soil_Ph.csv')\n",
    "\n",
    "broken_mains = broken_mains[['FACILITYID', 'LOCATION', 'INSTALLDAT', 'SUBTYPE',\n",
    "       'MATERIAL', 'LENGTH', 'DIAMETER', 'STATUS', 'PressureSy']].drop_duplicates()\n",
    "broken_mains['INSTALLDAT'] = pd.to_datetime(broken_mains['INSTALLDAT'], format='mixed')\n",
    "broken_mains.info()"
   ]
  },
  {
   "cell_type": "code",
   "execution_count": 110,
   "metadata": {},
   "outputs": [
    {
     "data": {
      "text/html": [
       "<div>\n",
       "<style scoped>\n",
       "    .dataframe tbody tr th:only-of-type {\n",
       "        vertical-align: middle;\n",
       "    }\n",
       "\n",
       "    .dataframe tbody tr th {\n",
       "        vertical-align: top;\n",
       "    }\n",
       "\n",
       "    .dataframe thead th {\n",
       "        text-align: right;\n",
       "    }\n",
       "</style>\n",
       "<table border=\"1\" class=\"dataframe\">\n",
       "  <thead>\n",
       "    <tr style=\"text-align: right;\">\n",
       "      <th></th>\n",
       "      <th>FACILITYID</th>\n",
       "      <th>LOCATION</th>\n",
       "      <th>INSTALLDAT</th>\n",
       "      <th>SUBTYPE</th>\n",
       "      <th>MATERIAL</th>\n",
       "      <th>LENGTH</th>\n",
       "      <th>DIAMETER</th>\n",
       "      <th>STATUS</th>\n",
       "      <th>PressureSy</th>\n",
       "    </tr>\n",
       "  </thead>\n",
       "  <tbody>\n",
       "    <tr>\n",
       "      <th>0</th>\n",
       "      <td>22-23992</td>\n",
       "      <td>Arborland Mall</td>\n",
       "      <td>1961-09-11</td>\n",
       "      <td>1</td>\n",
       "      <td>CI</td>\n",
       "      <td>0.0</td>\n",
       "      <td>8.0</td>\n",
       "      <td>IS</td>\n",
       "      <td>SHE</td>\n",
       "    </tr>\n",
       "    <tr>\n",
       "      <th>1</th>\n",
       "      <td>00-00079</td>\n",
       "      <td>Marlborough</td>\n",
       "      <td>1962-06-30</td>\n",
       "      <td>2</td>\n",
       "      <td>CI</td>\n",
       "      <td>453.0</td>\n",
       "      <td>20.0</td>\n",
       "      <td>IS</td>\n",
       "      <td>SHE</td>\n",
       "    </tr>\n",
       "    <tr>\n",
       "      <th>2</th>\n",
       "      <td>00-00404</td>\n",
       "      <td>Platt Rd</td>\n",
       "      <td>1978-07-24</td>\n",
       "      <td>2</td>\n",
       "      <td>DI</td>\n",
       "      <td>0.0</td>\n",
       "      <td>16.0</td>\n",
       "      <td>IS</td>\n",
       "      <td>SHE</td>\n",
       "    </tr>\n",
       "    <tr>\n",
       "      <th>3</th>\n",
       "      <td>00-00428</td>\n",
       "      <td>Platt Rd</td>\n",
       "      <td>1978-07-24</td>\n",
       "      <td>2</td>\n",
       "      <td>DI</td>\n",
       "      <td>0.0</td>\n",
       "      <td>16.0</td>\n",
       "      <td>IS</td>\n",
       "      <td>SHE</td>\n",
       "    </tr>\n",
       "    <tr>\n",
       "      <th>4</th>\n",
       "      <td>00-00429</td>\n",
       "      <td>Platt Rd</td>\n",
       "      <td>1960-01-01</td>\n",
       "      <td>1</td>\n",
       "      <td>CI</td>\n",
       "      <td>160.0</td>\n",
       "      <td>8.0</td>\n",
       "      <td>IS</td>\n",
       "      <td>SHE</td>\n",
       "    </tr>\n",
       "  </tbody>\n",
       "</table>\n",
       "</div>"
      ],
      "text/plain": [
       "  FACILITYID        LOCATION INSTALLDAT  SUBTYPE MATERIAL  LENGTH  DIAMETER  \\\n",
       "0   22-23992  Arborland Mall 1961-09-11        1       CI     0.0       8.0   \n",
       "1   00-00079     Marlborough 1962-06-30        2       CI   453.0      20.0   \n",
       "2   00-00404        Platt Rd 1978-07-24        2       DI     0.0      16.0   \n",
       "3   00-00428        Platt Rd 1978-07-24        2       DI     0.0      16.0   \n",
       "4   00-00429        Platt Rd 1960-01-01        1       CI   160.0       8.0   \n",
       "\n",
       "  STATUS PressureSy  \n",
       "0     IS        SHE  \n",
       "1     IS        SHE  \n",
       "2     IS        SHE  \n",
       "3     IS        SHE  \n",
       "4     IS        SHE  "
      ]
     },
     "execution_count": 110,
     "metadata": {},
     "output_type": "execute_result"
    }
   ],
   "source": [
    "broken_mains[['FACILITYID', 'LOCATION', 'INSTALLDAT', 'SUBTYPE',\n",
    "       'MATERIAL', 'LENGTH', 'DIAMETER', 'STATUS', 'PressureSy']].head()"
   ]
  },
  {
   "cell_type": "code",
   "execution_count": 111,
   "metadata": {},
   "outputs": [
    {
     "name": "stdout",
     "output_type": "stream",
     "text": [
      "<class 'pandas.core.frame.DataFrame'>\n",
      "Index: 31332 entries, 0 to 32652\n",
      "Data columns (total 10 columns):\n",
      " #   Column      Non-Null Count  Dtype         \n",
      "---  ------      --------------  -----         \n",
      " 0   ENABLED     31332 non-null  int64         \n",
      " 1   FACILITYID  31047 non-null  object        \n",
      " 2   LOCATION    17788 non-null  object        \n",
      " 3   INSTALLDAT  28905 non-null  datetime64[ns]\n",
      " 4   SUBTYPE     31332 non-null  int64         \n",
      " 5   MATERIAL    31296 non-null  object        \n",
      " 6   LENGTH      31332 non-null  float64       \n",
      " 7   DIAMETER    31332 non-null  float64       \n",
      " 8   STATUS      31332 non-null  object        \n",
      " 9   PressureSy  30487 non-null  object        \n",
      "dtypes: datetime64[ns](1), float64(2), int64(2), object(5)\n",
      "memory usage: 2.6+ MB\n"
     ]
    }
   ],
   "source": [
    "all_mains = pd.read_csv('../data/raw/All_Watermains_Attributes.csv', encoding='latin-1').drop_duplicates()\n",
    "all_mains['INSTALLDAT'] = pd.to_datetime(all_mains['INSTALLDAT'], format='mixed')\n",
    "all_mains.info()"
   ]
  },
  {
   "cell_type": "code",
   "execution_count": 112,
   "metadata": {},
   "outputs": [
    {
     "data": {
      "text/html": [
       "<div>\n",
       "<style scoped>\n",
       "    .dataframe tbody tr th:only-of-type {\n",
       "        vertical-align: middle;\n",
       "    }\n",
       "\n",
       "    .dataframe tbody tr th {\n",
       "        vertical-align: top;\n",
       "    }\n",
       "\n",
       "    .dataframe thead th {\n",
       "        text-align: right;\n",
       "    }\n",
       "</style>\n",
       "<table border=\"1\" class=\"dataframe\">\n",
       "  <thead>\n",
       "    <tr style=\"text-align: right;\">\n",
       "      <th></th>\n",
       "      <th>ENABLED</th>\n",
       "      <th>FACILITYID</th>\n",
       "      <th>LOCATION</th>\n",
       "      <th>INSTALLDAT</th>\n",
       "      <th>SUBTYPE</th>\n",
       "      <th>MATERIAL</th>\n",
       "      <th>LENGTH</th>\n",
       "      <th>DIAMETER</th>\n",
       "      <th>STATUS</th>\n",
       "      <th>PressureSy</th>\n",
       "    </tr>\n",
       "  </thead>\n",
       "  <tbody>\n",
       "    <tr>\n",
       "      <th>0</th>\n",
       "      <td>1</td>\n",
       "      <td>22-00008</td>\n",
       "      <td>Packard St</td>\n",
       "      <td>1963-05-16</td>\n",
       "      <td>3</td>\n",
       "      <td>CI</td>\n",
       "      <td>0.0</td>\n",
       "      <td>6.0</td>\n",
       "      <td>IS</td>\n",
       "      <td>SHE</td>\n",
       "    </tr>\n",
       "    <tr>\n",
       "      <th>1</th>\n",
       "      <td>1</td>\n",
       "      <td>22-00016</td>\n",
       "      <td>Packard St</td>\n",
       "      <td>1950-01-01</td>\n",
       "      <td>3</td>\n",
       "      <td>CI</td>\n",
       "      <td>6.0</td>\n",
       "      <td>6.0</td>\n",
       "      <td>IS</td>\n",
       "      <td>SHE</td>\n",
       "    </tr>\n",
       "    <tr>\n",
       "      <th>2</th>\n",
       "      <td>1</td>\n",
       "      <td>22-00017</td>\n",
       "      <td>Packard St</td>\n",
       "      <td>1950-01-01</td>\n",
       "      <td>3</td>\n",
       "      <td>CI</td>\n",
       "      <td>17.0</td>\n",
       "      <td>6.0</td>\n",
       "      <td>IS</td>\n",
       "      <td>SHE</td>\n",
       "    </tr>\n",
       "    <tr>\n",
       "      <th>3</th>\n",
       "      <td>1</td>\n",
       "      <td>22-00048</td>\n",
       "      <td>Packard St</td>\n",
       "      <td>1930-01-01</td>\n",
       "      <td>3</td>\n",
       "      <td>CI</td>\n",
       "      <td>18.0</td>\n",
       "      <td>6.0</td>\n",
       "      <td>IS</td>\n",
       "      <td>SHE</td>\n",
       "    </tr>\n",
       "    <tr>\n",
       "      <th>4</th>\n",
       "      <td>1</td>\n",
       "      <td>22-00115</td>\n",
       "      <td>Eastover Pl</td>\n",
       "      <td>1940-01-01</td>\n",
       "      <td>3</td>\n",
       "      <td>CI</td>\n",
       "      <td>25.0</td>\n",
       "      <td>6.0</td>\n",
       "      <td>IS</td>\n",
       "      <td>SHE</td>\n",
       "    </tr>\n",
       "  </tbody>\n",
       "</table>\n",
       "</div>"
      ],
      "text/plain": [
       "   ENABLED FACILITYID     LOCATION INSTALLDAT  SUBTYPE MATERIAL  LENGTH  \\\n",
       "0        1   22-00008   Packard St 1963-05-16        3       CI     0.0   \n",
       "1        1   22-00016   Packard St 1950-01-01        3       CI     6.0   \n",
       "2        1   22-00017   Packard St 1950-01-01        3       CI    17.0   \n",
       "3        1   22-00048   Packard St 1930-01-01        3       CI    18.0   \n",
       "4        1   22-00115  Eastover Pl 1940-01-01        3       CI    25.0   \n",
       "\n",
       "   DIAMETER STATUS PressureSy  \n",
       "0       6.0     IS        SHE  \n",
       "1       6.0     IS        SHE  \n",
       "2       6.0     IS        SHE  \n",
       "3       6.0     IS        SHE  \n",
       "4       6.0     IS        SHE  "
      ]
     },
     "execution_count": 112,
     "metadata": {},
     "output_type": "execute_result"
    }
   ],
   "source": [
    "all_mains.head()"
   ]
  },
  {
   "cell_type": "code",
   "execution_count": 113,
   "metadata": {},
   "outputs": [
    {
     "data": {
      "text/plain": [
       "{'DIAMETER',\n",
       " 'FACILITYID',\n",
       " 'INSTALLDAT',\n",
       " 'LENGTH',\n",
       " 'LOCATION',\n",
       " 'MATERIAL',\n",
       " 'PressureSy',\n",
       " 'STATUS',\n",
       " 'SUBTYPE'}"
      ]
     },
     "execution_count": 113,
     "metadata": {},
     "output_type": "execute_result"
    }
   ],
   "source": [
    "common_columns = set(all_mains.columns).intersection(set(broken_mains.columns))\n",
    "common_columns"
   ]
  },
  {
   "cell_type": "code",
   "execution_count": 118,
   "metadata": {},
   "outputs": [],
   "source": [
    "merging_columns = common_columns - \\\n",
    "{\n",
    "    # 'DIAMETER',\n",
    "#  'FACILITYID',\n",
    "#  'INSTALLDAT',\n",
    "#  'LENGTH',\n",
    " 'LOCATION',\n",
    "#  'MATERIAL',\n",
    "#  'PressureSy',\n",
    "#  'STATUS',\n",
    "#  'SUBTYPE'\n",
    " }"
   ]
  },
  {
   "cell_type": "code",
   "execution_count": 119,
   "metadata": {},
   "outputs": [
    {
     "name": "stdout",
     "output_type": "stream",
     "text": [
      "<class 'pandas.core.frame.DataFrame'>\n",
      "RangeIndex: 837 entries, 0 to 836\n",
      "Data columns (total 11 columns):\n",
      " #   Column      Non-Null Count  Dtype         \n",
      "---  ------      --------------  -----         \n",
      " 0   ENABLED     837 non-null    int64         \n",
      " 1   FACILITYID  837 non-null    object        \n",
      " 2   LOCATION_x  408 non-null    object        \n",
      " 3   INSTALLDAT  831 non-null    datetime64[ns]\n",
      " 4   SUBTYPE     837 non-null    int64         \n",
      " 5   MATERIAL    837 non-null    object        \n",
      " 6   LENGTH      837 non-null    float64       \n",
      " 7   DIAMETER    837 non-null    float64       \n",
      " 8   STATUS      837 non-null    object        \n",
      " 9   PressureSy  837 non-null    object        \n",
      " 10  LOCATION_y  837 non-null    object        \n",
      "dtypes: datetime64[ns](1), float64(2), int64(2), object(6)\n",
      "memory usage: 72.1+ KB\n"
     ]
    }
   ],
   "source": [
    "all_mains.merge(broken_mains, on=list(merging_columns), how='inner').info()"
   ]
  }
 ],
 "metadata": {
  "kernelspec": {
   "display_name": ".venv",
   "language": "python",
   "name": "python3"
  },
  "language_info": {
   "codemirror_mode": {
    "name": "ipython",
    "version": 3
   },
   "file_extension": ".py",
   "mimetype": "text/x-python",
   "name": "python",
   "nbconvert_exporter": "python",
   "pygments_lexer": "ipython3",
   "version": "3.11.2"
  }
 },
 "nbformat": 4,
 "nbformat_minor": 2
}
